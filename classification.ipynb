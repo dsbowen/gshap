{
 "cells": [
  {
   "cell_type": "markdown",
   "metadata": {},
   "source": [
    "# General Classification Explanations with G-SHAP\n",
    "\n",
    "We can use SHAP for classification explanations. Why did our model predict that observation $x$ belongs to class $c$?\n",
    "\n",
    "We can generalize this question using G-SHAP values. In this example, we ask two questions of the sklearn iris dataset. Suppose we have an iris $x$ which our model classifies as a Versicolour iris. We will ask:\n",
    "\n",
    "1. Why is this observation classified as Versicolour, rather than Setosa?\n",
    "2. Why is this observation classified as Versicolour, rather than Virginica?\n",
    "\n",
    "We find that petal length is usually the most important feature. Additionally, petal length is relatively less important, and petal width relatively more important, for distinguishing Versicolour from Virginica, (as opposed to distinguishing Versicolour from Setosa).\n",
    "\n",
    "These questions are specific examples of a general question. Define a set of positive classes $P\\subset C$ and a set of negative classes $N\\subset C$. For a single observation $x$, we can ask why our model predicts it belongs to a positive class rather than a negative class; $f(x)\\in P \\& f(x)\\notin N$? For a sample $X$, we can ask which features best distinguish positive classes from negative classes."
   ]
  },
  {
   "cell_type": "code",
   "execution_count": 1,
   "metadata": {},
   "outputs": [],
   "source": [
    "import warnings\n",
    "warnings.simplefilter('ignore')\n",
    "\n",
    "import gshap\n",
    "from gshap.classification import ClassificationDistance\n",
    "\n",
    "import matplotlib.pyplot as plt\n",
    "import numpy as np\n",
    "import pandas as pd\n",
    "import seaborn as sns\n",
    "from sklearn.datasets import load_iris\n",
    "from sklearn.model_selection import train_test_split\n",
    "from sklearn.svm import SVC"
   ]
  },
  {
   "cell_type": "markdown",
   "metadata": {},
   "source": [
    "We begin by loading the iris dataset and training our classifier."
   ]
  },
  {
   "cell_type": "code",
   "execution_count": 2,
   "metadata": {},
   "outputs": [
    {
     "name": "stdout",
     "output_type": "stream",
     "text": [
      "Test score:  0.9737\n"
     ]
    }
   ],
   "source": [
    "iris = load_iris()\n",
    "X, y = iris.data, iris.target\n",
    "X_train, X_test, y_train, y_test = train_test_split(X, y)\n",
    "clf = SVC(probability=True)\n",
    "clf.fit(X_train, y_train)\n",
    "print('Test score: % .4f' % clf.score(X_test, y_test))"
   ]
  },
  {
   "cell_type": "markdown",
   "metadata": {},
   "source": [
    "Next, we sample observations for explanation. We select observations classified as Versicolour (class 1).\n",
    "\n",
    "Features 2 and 3 (petal length and width) are the most important features. To visualize where our observations fall along these dimensions, we create a scatterplot. The selected observations are highlighted in red."
   ]
  },
  {
   "cell_type": "code",
   "execution_count": 3,
   "metadata": {},
   "outputs": [
    {
     "data": {
      "image/png": "[encoded data removed]",
      "text/plain": [
       "<Figure size 432x288 with 1 Axes>"
      ]
     },
     "metadata": {
      "needs_background": "light"
     },
     "output_type": "display_data"
    }
   ],
   "source": [
    "x = X_test[clf.predict(X_test) == 1]\n",
    "x = x.reshape((1,-1)) if len(x.shape) == 1 else x\n",
    "palette = ['blue', 'green', 'purple']\n",
    "for i in range(3):\n",
    "    species = X[y==i]\n",
    "    plt.scatter(species[:,2], species[:,3], c=palette[i], label=iris.target_names[i])\n",
    "plt.scatter(x[:,2], x[:,3], c='red', label='sample versicolour')\n",
    "plt.xlabel(iris['feature_names'][2])\n",
    "plt.ylabel(iris['feature_names'][3])\n",
    "plt.legend()\n",
    "plt.show()"
   ]
  },
  {
   "cell_type": "markdown",
   "metadata": {},
   "source": [
    "Compute the G-SHAP values, where $g$ is `ClassificationDistance`. This measures the likelihood of observations being classified as one of the positive classes, rather than one of the negative classes."
   ]
  },
  {
   "cell_type": "code",
   "execution_count": 4,
   "metadata": {},
   "outputs": [],
   "source": [
    "# Versicolour (1) versus Setosa (0)\n",
    "g = ClassificationDistance(positive_classes=[1], negative_classes=[0])\n",
    "explainer = gshap.KernelExplainer(clf.predict_proba, X_train, g)\n",
    "gshap_values_10 = explainer.gshap_values(x, nsamples=1000)"
   ]
  },
  {
   "cell_type": "code",
   "execution_count": 5,
   "metadata": {},
   "outputs": [],
   "source": [
    "# Versicolour (1) versus Virginica (2)\n",
    "g = ClassificationDistance([1], [2])\n",
    "explainer = gshap.KernelExplainer(clf.predict_proba, X_train, g)\n",
    "gshap_values_12 = explainer.gshap_values(x, nsamples=1000)"
   ]
  },
  {
   "cell_type": "markdown",
   "metadata": {},
   "source": [
    "Finally, we display the results. This plot tells us which features best distinguish Versicolour from Setosa (blue) and which features best distinguish Versicolour from Virginia (orange)."
   ]
  },
  {
   "cell_type": "code",
   "execution_count": 6,
   "metadata": {},
   "outputs": [
    {
     "data": {
      "text/plain": [
       "<seaborn.axisgrid.FacetGrid at 0x7f97c6f6a550>"
      ]
     },
     "execution_count": 6,
     "metadata": {},
     "output_type": "execute_result"
    },
    {
     "data": {
      "image/png": "[encoded data removed]",
      "text/plain": [
       "<Figure size 438.875x360 with 1 Axes>"
      ]
     },
     "metadata": {
      "needs_background": "light"
     },
     "output_type": "display_data"
    }
   ],
   "source": [
    "df = pd.DataFrame({\n",
    "    'Features': iris['feature_names']*2,\n",
    "    'G-SHAP': list(gshap_values_10) + list(gshap_values_12), \n",
    "    'Comparison': [iris['target_names'][0]]*4 + [iris['target_names'][2]]*4\n",
    "})\n",
    "sns.catplot(\n",
    "    x='G-SHAP', \n",
    "    y='Features', \n",
    "    hue='Comparison', \n",
    "    data=df, \n",
    "    kind='bar',\n",
    "    orient='h'\n",
    ")"
   ]
  },
  {
   "cell_type": "code",
   "execution_count": null,
   "metadata": {},
   "outputs": [],
   "source": []
  }
 ],
 "metadata": {
  "kernelspec": {
   "display_name": "Python 3",
   "language": "python",
   "name": "python3"
  },
  "language_info": {
   "codemirror_mode": {
    "name": "ipython",
    "version": 3
   },
   "file_extension": ".py",
   "mimetype": "text/x-python",
   "name": "python",
   "nbconvert_exporter": "python",
   "pygments_lexer": "ipython3",
   "version": "3.6.8"
  }
 },
 "nbformat": 4,
 "nbformat_minor": 4
}
