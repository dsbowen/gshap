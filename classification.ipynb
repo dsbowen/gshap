{
 "cells": [
  {
   "cell_type": "markdown",
   "metadata": {},
   "source": [
    "# General Classification Explanations\n",
    "\n",
    "**Example.** In this example, we ask how the features which distinguish Versicolour from Setosa irises compare to those which distinguish Versicolour from Virginica irises. (This is analogous to asking how the symptoms which distinguish COVID-19 from the flu compare to those which distinguish COVID-19 from the common cold; however, a sufficient COVID-19 dataset is not publicly available.) We find that petal length is the most important feature. Additionally, petal length is relatively less important, and sepal length relatively more important, for distinguishing Versicolour from Setosa (as opposed to distinguishing Versicolour from Virginia).\n",
    "\n",
    "**General formulation.** More generally, let $f_c(x_i)$ be the probability that observation $x_i$ belongs to class $c\\in C$ according to model $f$. Let $C_+\\subset C$ be a set of 'positive classes' and $C_-\\subset C$ be a set of 'negative classes'. For a single observation $x_i$, we can ask why our model predicts it comes from a positive class rather than a negative class. For a randomly selected set of observations $X$ from positive classes, we can ask which features best distinguish observations which belong to positive classes from observations which belong to negative classes. Here, the positive class is Versicolour, and the negative class is Setosa or Virginica."
   ]
  },
  {
   "cell_type": "code",
   "execution_count": 1,
   "metadata": {
    "ExecuteTime": {
     "end_time": "2020-08-17T23:21:11.744531Z",
     "start_time": "2020-08-17T23:21:03.336403Z"
    }
   },
   "outputs": [],
   "source": [
    "import warnings\n",
    "warnings.simplefilter('ignore')\n",
    "\n",
    "import gshap\n",
    "from gshap.probability_distance import ProbabilityDistance\n",
    "\n",
    "import matplotlib.pyplot as plt\n",
    "import numpy as np\n",
    "import pandas as pd\n",
    "import seaborn as sns\n",
    "from sklearn.datasets import load_iris\n",
    "from sklearn.model_selection import train_test_split\n",
    "from sklearn.svm import SVC\n",
    "\n",
    "import os\n",
    "import random\n",
    "\n",
    "np.random.seed(0)\n",
    "random.seed(0)\n",
    "\n",
    "# directory for saving figures\n",
    "# set to `None` to avoid saving\n",
    "PLOT_DIR = 'plots'"
   ]
  },
  {
   "cell_type": "markdown",
   "metadata": {},
   "source": [
    "**Model.** We train Scikit-learn's support vector classifier with default settings on the Scikit-learn iris dataset ($n=150$), using a 75%-25% train-test split. The purpose of this dataset is to predict an iris's species (Versicolour, Setosa, or Virginica) based on its petal length, petal width, sepal length, and sepal width."
   ]
  },
  {
   "cell_type": "code",
   "execution_count": 2,
   "metadata": {
    "ExecuteTime": {
     "end_time": "2020-08-17T23:21:11.779820Z",
     "start_time": "2020-08-17T23:21:11.746710Z"
    }
   },
   "outputs": [
    {
     "name": "stdout",
     "output_type": "stream",
     "text": [
      "Test score:  0.9737\n"
     ]
    }
   ],
   "source": [
    "iris = load_iris()\n",
    "X_train, X_test, y_train, y_test = train_test_split(iris.data, iris.target)\n",
    "clf = SVC(probability=True)\n",
    "clf.fit(X_train, y_train)\n",
    "print('Test score: % .4f' % clf.score(X_test, y_test))"
   ]
  },
  {
   "cell_type": "markdown",
   "metadata": {},
   "source": [
    "**Sample.** To discover which features distinguish Versicolour from Setosa or Virginica, our set of observations $X$ is a random sample of test observations classified as Versicolour. Note that our analysis will not work if $X$ contains a mixture of iris species. Intuitively, we are asking what features lead our model to believe that $X$ contains only Versicolour irises. If $X$ contains a mixture of iris species, the G-SHAP values will be 0 for all features, indicating that our model does not believe $X$ contains only Versicolour irises.\n",
    "\n",
    "Sepal length and petal length are of most interest to our analysis. To visualize where our observations fall along these dimensions, we create a scatterplot. The selected observations are highlighted in red."
   ]
  },
  {
   "cell_type": "code",
   "execution_count": 3,
   "metadata": {
    "ExecuteTime": {
     "end_time": "2020-08-17T23:21:12.151380Z",
     "start_time": "2020-08-17T23:21:11.783397Z"
    }
   },
   "outputs": [
    {
     "data": {
      "image/png": "[encoded data removed]",
      "text/plain": [
       "<Figure size 432x288 with 1 Axes>"
      ]
     },
     "metadata": {
      "needs_background": "light"
     },
     "output_type": "display_data"
    }
   ],
   "source": [
    "# select Versicolour (class 1)\n",
    "X = X_test[clf.predict(X_test) == 1]\n",
    "X = X.reshape((1,-1)) if len(X.shape) == 1 else X\n",
    "\n",
    "# plot sepal length (feature 0) against petal length (feature 2)\n",
    "palette = ['blue', 'green', 'purple']\n",
    "for i in range(3):\n",
    "    species = iris.data[iris.target==i]\n",
    "    plt.scatter(species[:,0], species[:,2], c=palette[i], label=iris.target_names[i])\n",
    "plt.scatter(X[:,0], X[:,2], c='red', label='sample versicolour')\n",
    "plt.xlabel(iris['feature_names'][0])\n",
    "plt.ylabel(iris['feature_names'][2])\n",
    "plt.legend()\n",
    "if PLOT_DIR is not None:\n",
    "    plt.savefig(os.path.join(PLOT_DIR, 'iris_scatter.png'))\n",
    "plt.show()"
   ]
  },
  {
   "cell_type": "markdown",
   "metadata": {},
   "source": [
    "**G-SHAP values.** We compute the G-SHAP values, where $g$ measures the probability that every observation in set $X$ belongs to a positive class given that every observation belongs to a positive class or every observation belongs to a negative class.\n",
    "\n",
    "\\begin{equation}\n",
    "g(f,X,\\Omega) = \\frac{\\prod_i \\sum_{c\\in C_+} f_c(x_i)}{\\prod_i \\sum_{c\\in C_+} f_c(x_i) + \\prod_i \\sum_{c\\in C_-} f_c(x_i)}\n",
    "\\end{equation}\n",
    "\n",
    "Where the additional arguments to $g$ are the sets of positive and negative classes; $\\Omega=\\{C_+,C_-\\}$.\n",
    "\n",
    "Note that traditional SHAP values are a specific instance of $g(f,X,\\Omega)$ in which set $X$ contains a single observation $x_i$, the set of positive classes is the model's classification of $x_i$; $C_+=\\{arg\\,max_{c\\in C} f_c(x_i)\\}$, and the negative classes are the complement of the positive classes $C_-=C\\setminus C_+$. Also note that, while our generalized function $g(f,X,\\Omega)$ uses only two subsets of classes, $C_+$ and $C_-$, it easily extends to accommodate any number of subsets.\n",
    "\n",
    "In our example, $g$ measures the probability that every iris in this sample is a Versicolour, given that every iris in this sample is a Versicolour or every iris in this sample is a Setosa. Specifically, the set of positive classes $C_+$ is $\\{\\text{Versicolour}\\}$, and the set of negative classes $C_-$ is $\\{\\text{Setosa}\\}$.\n",
    "\n",
    "\\begin{equation}\n",
    "g(f,X,\\Omega) \n",
    "= \\frac{\\prod_i f_{\\text{Versicolour}}(x_i)}\n",
    "{\\prod_i f_{\\text{Versicolour}}(x_i) + \\prod_i f_{\\text{Setosa}}(x_i)}\n",
    "\\end{equation}"
   ]
  },
  {
   "cell_type": "code",
   "execution_count": 4,
   "metadata": {
    "ExecuteTime": {
     "end_time": "2020-08-17T23:21:22.910608Z",
     "start_time": "2020-08-17T23:21:12.153496Z"
    }
   },
   "outputs": [],
   "source": [
    "# Versicolour (1) versus Setosa (0)\n",
    "pos_distribution = lambda y_pred: y_pred[:,1]\n",
    "neg_distribution = lambda y_pred: y_pred[:,0]\n",
    "g = ProbabilityDistance(pos_distribution, neg_distribution)\n",
    "explainer_10 = gshap.KernelExplainer(clf.predict_proba, X_train, g)\n",
    "gshap_values_10 = explainer_10.gshap_values(X, nsamples=10000)"
   ]
  },
  {
   "cell_type": "markdown",
   "metadata": {},
   "source": [
    "Similarly, to discover which features distinguish Versicolour from Virginica, $C_-$ is $\\{\\text{Virginica}\\}$. As before, $C_+=\\{\\text{Versicolour}\\}$."
   ]
  },
  {
   "cell_type": "code",
   "execution_count": 5,
   "metadata": {
    "ExecuteTime": {
     "end_time": "2020-08-17T23:21:33.399339Z",
     "start_time": "2020-08-17T23:21:22.912878Z"
    }
   },
   "outputs": [],
   "source": [
    "# Versicolour (1) versus Virginica (2)\n",
    "neg_distribution = lambda y_pred: y_pred[:,2]\n",
    "g = ProbabilityDistance(pos_distribution, neg_distribution)\n",
    "explainer_12 = gshap.KernelExplainer(clf.predict_proba, X_train, g)\n",
    "gshap_values_12 = explainer_12.gshap_values(X, nsamples=10000)"
   ]
  },
  {
   "cell_type": "markdown",
   "metadata": {},
   "source": [
    "**Interpretation.** For interpretation, we compare our Versicolour sample $X$ to a background dataset $Z$ (the shuffled training data) in terms of $g$. For the Versicolour-Setosa comparison, our support vector classifier correctly predicts a 100\\% chance that our sample contains only Versicolour, as opposed to only Setosa. It also predicts a 65% chance that our background dataset contains only Versicolour, as opposed to only Setosa. Each G-SHAP value $\\phi_g^j$ is the number of percentage points of this difference (35 percentage points) explained by feature $j$.\n",
    "\n",
    "For general classification explanations more broadly, our model predicts that each observation in our sample belongs to a positive class, rather than a negative class, with probability $Pr_X$. It also predicts that each observation in the background dataset comes from a positive class, rather than a negative class, with probability $Pr_Z$. Each G-SHAP value $\\phi_g^j$ is the number of percentage points of this difference $Pr_X-Pr_Z$ explained by feature $j$."
   ]
  },
  {
   "cell_type": "code",
   "execution_count": 6,
   "metadata": {
    "ExecuteTime": {
     "end_time": "2020-08-17T23:21:34.743214Z",
     "start_time": "2020-08-17T23:21:33.402769Z"
    }
   },
   "outputs": [
    {
     "name": "stdout",
     "output_type": "stream",
     "text": [
      "Probability that our sample belongs to a positive class: 1.0000\n",
      "Probability that the background data belongs to a positive class: 0.6296\n",
      "Sum of G-SHAP values: 0.3695\n"
     ]
    }
   ],
   "source": [
    "g_comparison, g_background = explainer_10.compare(X, bootstrap_samples=10000)\n",
    "print('Probability that our sample belongs to a positive class: %.4f' % g_comparison)\n",
    "print('Probability that the background data belongs to a positive class: %.4f' % g_background)\n",
    "print('Sum of G-SHAP values: %.4f' % gshap_values_10.sum())"
   ]
  },
  {
   "cell_type": "markdown",
   "metadata": {},
   "source": [
    "We interpret the G-SHAP values for the Versicolour-Virginica comparison similarly."
   ]
  },
  {
   "cell_type": "code",
   "execution_count": 7,
   "metadata": {
    "ExecuteTime": {
     "end_time": "2020-08-17T23:21:36.020483Z",
     "start_time": "2020-08-17T23:21:34.746677Z"
    }
   },
   "outputs": [
    {
     "name": "stdout",
     "output_type": "stream",
     "text": [
      "Probability that our sample belongs to a positive class: 1.0000\n",
      "Probability that the background data belongs to a positive class: 0.3990\n",
      "Sum of G-SHAP values: 0.6024\n"
     ]
    }
   ],
   "source": [
    "g_comparison, g_background = explainer_12.compare(X, bootstrap_samples=10000)\n",
    "print('Probability that our sample belongs to a positive class: %.4f' % g_comparison)\n",
    "print('Probability that the background data belongs to a positive class: %.4f' % g_background)\n",
    "print('Sum of G-SHAP values: %.4f' % gshap_values_12.sum())"
   ]
  },
  {
   "cell_type": "markdown",
   "metadata": {},
   "source": [
    "**Results.** We plot our results, normalizing the G-SHAP values to sum to 1 for both comparisons (Versicolour-Setosa and Versicolour-Virginica). We find that petal length is the most important feature. Additionally, petal length is relatively less important, and sepal length relatively more important, for distinguishing Versicolour from Setosa (as opposed to distinguishing Versicolour from Virginia)."
   ]
  },
  {
   "cell_type": "code",
   "execution_count": 8,
   "metadata": {
    "ExecuteTime": {
     "end_time": "2020-08-17T23:21:36.431012Z",
     "start_time": "2020-08-17T23:21:36.024091Z"
    }
   },
   "outputs": [
    {
     "data": {
      "image/png": "[encoded data removed]",
      "text/plain": [
       "<Figure size 438.875x360 with 1 Axes>"
      ]
     },
     "metadata": {
      "needs_background": "light"
     },
     "output_type": "display_data"
    }
   ],
   "source": [
    "df = pd.DataFrame({\n",
    "    'Features': iris['feature_names']*2,\n",
    "    'G-SHAP': list(gshap_values_10/gshap_values_10.sum()) + list(gshap_values_12/gshap_values_12.sum()), \n",
    "    'Comparison': [iris['target_names'][0]]*4 + [iris['target_names'][2]]*4\n",
    "})\n",
    "sns.catplot(\n",
    "    x='G-SHAP', \n",
    "    y='Features', \n",
    "    hue='Comparison', \n",
    "    data=df, \n",
    "    kind='bar',\n",
    "    orient='h'\n",
    ")\n",
    "if PLOT_DIR is not None:\n",
    "    plt.savefig(os.path.join(PLOT_DIR, 'iris_gshap.png'))\n",
    "plt.show()"
   ]
  },
  {
   "cell_type": "code",
   "execution_count": 9,
   "metadata": {
    "ExecuteTime": {
     "end_time": "2020-08-17T23:21:36.461288Z",
     "start_time": "2020-08-17T23:21:36.433339Z"
    }
   },
   "outputs": [
    {
     "data": {
      "text/html": [
       "<div>\n",
       "<style scoped>\n",
       "    .dataframe tbody tr th:only-of-type {\n",
       "        vertical-align: middle;\n",
       "    }\n",
       "\n",
       "    .dataframe tbody tr th {\n",
       "        vertical-align: top;\n",
       "    }\n",
       "\n",
       "    .dataframe thead th {\n",
       "        text-align: right;\n",
       "    }\n",
       "</style>\n",
       "<table border=\"1\" class=\"dataframe\">\n",
       "  <thead>\n",
       "    <tr style=\"text-align: right;\">\n",
       "      <th></th>\n",
       "      <th>Features</th>\n",
       "      <th>G-SHAP</th>\n",
       "      <th>Comparison</th>\n",
       "    </tr>\n",
       "  </thead>\n",
       "  <tbody>\n",
       "    <tr>\n",
       "      <th>0</th>\n",
       "      <td>sepal length (cm)</td>\n",
       "      <td>0.059266</td>\n",
       "      <td>setosa</td>\n",
       "    </tr>\n",
       "    <tr>\n",
       "      <th>1</th>\n",
       "      <td>sepal width (cm)</td>\n",
       "      <td>0.041194</td>\n",
       "      <td>setosa</td>\n",
       "    </tr>\n",
       "    <tr>\n",
       "      <th>2</th>\n",
       "      <td>petal length (cm)</td>\n",
       "      <td>0.502755</td>\n",
       "      <td>setosa</td>\n",
       "    </tr>\n",
       "    <tr>\n",
       "      <th>3</th>\n",
       "      <td>petal width (cm)</td>\n",
       "      <td>0.396785</td>\n",
       "      <td>setosa</td>\n",
       "    </tr>\n",
       "    <tr>\n",
       "      <th>4</th>\n",
       "      <td>sepal length (cm)</td>\n",
       "      <td>-0.008588</td>\n",
       "      <td>virginica</td>\n",
       "    </tr>\n",
       "    <tr>\n",
       "      <th>5</th>\n",
       "      <td>sepal width (cm)</td>\n",
       "      <td>0.007735</td>\n",
       "      <td>virginica</td>\n",
       "    </tr>\n",
       "    <tr>\n",
       "      <th>6</th>\n",
       "      <td>petal length (cm)</td>\n",
       "      <td>0.637756</td>\n",
       "      <td>virginica</td>\n",
       "    </tr>\n",
       "    <tr>\n",
       "      <th>7</th>\n",
       "      <td>petal width (cm)</td>\n",
       "      <td>0.363097</td>\n",
       "      <td>virginica</td>\n",
       "    </tr>\n",
       "  </tbody>\n",
       "</table>\n",
       "</div>"
      ],
      "text/plain": [
       "            Features    G-SHAP Comparison\n",
       "0  sepal length (cm)  0.059266     setosa\n",
       "1   sepal width (cm)  0.041194     setosa\n",
       "2  petal length (cm)  0.502755     setosa\n",
       "3   petal width (cm)  0.396785     setosa\n",
       "4  sepal length (cm) -0.008588  virginica\n",
       "5   sepal width (cm)  0.007735  virginica\n",
       "6  petal length (cm)  0.637756  virginica\n",
       "7   petal width (cm)  0.363097  virginica"
      ]
     },
     "execution_count": 9,
     "metadata": {},
     "output_type": "execute_result"
    }
   ],
   "source": [
    "df"
   ]
  }
 ],
 "metadata": {
  "kernelspec": {
   "display_name": "Python 3",
   "language": "python",
   "name": "python3"
  },
  "language_info": {
   "codemirror_mode": {
    "name": "ipython",
    "version": 3
   },
   "file_extension": ".py",
   "mimetype": "text/x-python",
   "name": "python",
   "nbconvert_exporter": "python",
   "pygments_lexer": "ipython3",
   "version": "3.6.8"
  },
  "toc": {
   "base_numbering": 1,
   "nav_menu": {},
   "number_sections": true,
   "sideBar": true,
   "skip_h1_title": false,
   "title_cell": "Table of Contents",
   "title_sidebar": "Contents",
   "toc_cell": false,
   "toc_position": {},
   "toc_section_display": true,
   "toc_window_display": false
  },
  "varInspector": {
   "cols": {
    "lenName": 16,
    "lenType": 16,
    "lenVar": 40
   },
   "kernels_config": {
    "python": {
     "delete_cmd_postfix": "",
     "delete_cmd_prefix": "del ",
     "library": "var_list.py",
     "varRefreshCmd": "print(var_dic_list())"
    },
    "r": {
     "delete_cmd_postfix": ") ",
     "delete_cmd_prefix": "rm(",
     "library": "var_list.r",
     "varRefreshCmd": "cat(var_dic_list()) "
    }
   },
   "types_to_exclude": [
    "module",
    "function",
    "builtin_function_or_method",
    "instance",
    "_Feature"
   ],
   "window_display": false
  }
 },
 "nbformat": 4,
 "nbformat_minor": 4
}
