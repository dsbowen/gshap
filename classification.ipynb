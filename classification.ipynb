{
 "cells": [
  {
   "cell_type": "markdown",
   "metadata": {},
   "source": [
    "# General Classification Explanations\n",
    "\n",
    "This notebook shows how to produce general classification explanations with general SHAP values.\n",
    "\n",
    "In this example, we ask which variables distinguish Versicolour from Setosa irises, and which variables distinguish Versicolour from Virginica irises.\n",
    "\n",
    "We find that petal length is the most important feature. Additionally, petal length is relatively less important, and sepal width relatively more important, for distinguishing Versicolour from Setosa (as opposed to distinguishing Versicolour from Virginia).\n",
    "\n",
    "These questions are specific examples of a general question. Define a set of 'positive distribution functions' $P$ and a set of 'negative distribution functions' $N$. For a single observation $x$, we can ask why our model predicts it comes from a positive distribution rather than a negative distribution. For a random sample of observations $X$ from $P$, we can ask what features best distinguish observations which follow positive distributions from observations which follow negative distributions.\n",
    "\n",
    "Here, the positive distribution corresponds to Versicolour, and the negative distributions correspond to Setosa or Virginica. That is, the positive distribution is $p(\\hat{y})=\\mathbf{1}(\\hat{y}=\\text{Versicolour})$, and the negative distributions are similarly defined."
   ]
  },
  {
   "cell_type": "code",
   "execution_count": 1,
   "metadata": {},
   "outputs": [],
   "source": [
    "import warnings\n",
    "warnings.simplefilter('ignore')\n",
    "\n",
    "import gshap\n",
    "from gshap.probability_distance import ProbabilityDistance\n",
    "\n",
    "import matplotlib.pyplot as plt\n",
    "import numpy as np\n",
    "import pandas as pd\n",
    "import seaborn as sns\n",
    "from sklearn.datasets import load_iris\n",
    "from sklearn.model_selection import train_test_split\n",
    "from sklearn.svm import SVC"
   ]
  },
  {
   "cell_type": "markdown",
   "metadata": {},
   "source": [
    "We begin by loading the iris dataset and training our classifier."
   ]
  },
  {
   "cell_type": "code",
   "execution_count": 2,
   "metadata": {},
   "outputs": [
    {
     "name": "stdout",
     "output_type": "stream",
     "text": [
      "Test score:  0.9737\n"
     ]
    }
   ],
   "source": [
    "iris = load_iris()\n",
    "X, y = iris.data, iris.target\n",
    "X_train, X_test, y_train, y_test = train_test_split(X, y)\n",
    "clf = SVC(probability=True)\n",
    "clf.fit(X_train, y_train)\n",
    "print('Test score: % .4f' % clf.score(X_test, y_test))"
   ]
  },
  {
   "cell_type": "markdown",
   "metadata": {},
   "source": [
    "Next, we sample observations for explanation. We select observations classified as Versicolour (class 1).\n",
    "\n",
    "Features 1 and 2 (petal length and sepal width) are of most interest to our analysis. To visualize where our observations fall along these dimensions, we create a scatterplot. The selected observations are highlighted in red."
   ]
  },
  {
   "cell_type": "code",
   "execution_count": 3,
   "metadata": {},
   "outputs": [
    {
     "data": {
      "image/png": "[encoded data removed]",
      "text/plain": [
       "<Figure size 432x288 with 1 Axes>"
      ]
     },
     "metadata": {
      "needs_background": "light"
     },
     "output_type": "display_data"
    }
   ],
   "source": [
    "x = X_test[clf.predict(X_test) == 1]\n",
    "x = x.reshape((1,-1)) if len(x.shape) == 1 else x\n",
    "palette = ['blue', 'green', 'purple']\n",
    "for i in range(3):\n",
    "    species = X[y==i]\n",
    "    plt.scatter(species[:,1], species[:,2], c=palette[i], label=iris.target_names[i])\n",
    "plt.scatter(x[:,1], x[:,2], c='red', label='sample versicolour')\n",
    "plt.xlabel(iris['feature_names'][1])\n",
    "plt.ylabel(iris['feature_names'][2])\n",
    "plt.legend()\n",
    "plt.show()"
   ]
  },
  {
   "cell_type": "markdown",
   "metadata": {},
   "source": [
    "Compute the G-SHAP values, where $g$ is `ProbabilityDistance`. `ProbabilityDistance` measures the probability that every observation in our sample $x$ was generated by a positive distribution, rather than a negative distribution.\n",
    "\n",
    "Here, the positive distribution equals 1 for Versicolour and 0 otherwise; $p(\\hat{y})=\\mathbf{1}(\\hat{y}=\\text{Versicolour})$. The negative distribution equals 1 for Setosa and 0 otherwise. Intuitively, this analysis asks which features distinguish Versicolour from Setosa."
   ]
  },
  {
   "cell_type": "code",
   "execution_count": 4,
   "metadata": {},
   "outputs": [],
   "source": [
    "# Versicolour (1) versus Setosa (0)\n",
    "pos_distribution = lambda y_pred: y_pred[:,1]\n",
    "neg_distribution = lambda y_pred: y_pred[:,0]\n",
    "g = ProbabilityDistance(pos_distribution, neg_distribution)\n",
    "explainer = gshap.KernelExplainer(clf.predict_proba, X_train, g)\n",
    "gshap_values_10 = explainer.gshap_values(x, nsamples=10000)"
   ]
  },
  {
   "cell_type": "markdown",
   "metadata": {},
   "source": [
    "For interpretation, we compare our sample to the background dataset in terms of $g$. We see that our sample is more likely to have been generated by the positive distribution, rather than the negative distribution, compared with the background dataset.\n",
    "\n",
    "The sum of the G-SHAP values should approximately equal the difference between our sample and the background data (allowing for sampling error)."
   ]
  },
  {
   "cell_type": "code",
   "execution_count": 5,
   "metadata": {},
   "outputs": [
    {
     "name": "stdout",
     "output_type": "stream",
     "text": [
      "Probability that our sample follows the positive distribution: 1.0000\n",
      "Probability that the background data follows the positive distribution: 0.8247\n",
      "Sum of G-SHAP values: 0.1823\n"
     ]
    }
   ],
   "source": [
    "g_comparison, g_background = explainer.compare(x, bootstrap_samples=10000)\n",
    "print('Probability that our sample follows the positive distribution: %.4f' % g_comparison)\n",
    "print('Probability that the background data follows the positive distribution: %.4f' % g_background)\n",
    "print('Sum of G-SHAP values: %.4f' % gshap_values_10.sum())"
   ]
  },
  {
   "cell_type": "markdown",
   "metadata": {},
   "source": [
    "For comparison, we rerun our analysis with the negative distribution equal to 1 for Virginica and 0 otherwise. Intuitively, this analysis asks which features distinguish Versicolour from Viriginica."
   ]
  },
  {
   "cell_type": "code",
   "execution_count": 6,
   "metadata": {},
   "outputs": [],
   "source": [
    "# Versicolour (1) versus Virginica (2)\n",
    "neg_distribution = lambda y_pred: y_pred[:,2]\n",
    "g = ProbabilityDistance(pos_distribution, neg_distribution)\n",
    "explainer = gshap.KernelExplainer(clf.predict_proba, X_train, g)\n",
    "gshap_values_12 = explainer.gshap_values(x, nsamples=10000)"
   ]
  },
  {
   "cell_type": "code",
   "execution_count": 7,
   "metadata": {},
   "outputs": [
    {
     "name": "stdout",
     "output_type": "stream",
     "text": [
      "Probability that our sample follows the positive distribution: 1.0000\n",
      "Probability that the background data follows the positive distribution: 0.4729\n",
      "Sum of G-SHAP values: 0.5266\n"
     ]
    }
   ],
   "source": [
    "g_comparison, g_background = explainer.compare(x, bootstrap_samples=10000)\n",
    "print('Probability that our sample follows the positive distribution: %.4f' % g_comparison)\n",
    "print('Probability that the background data follows the positive distribution: %.4f' % g_background)\n",
    "print('Sum of G-SHAP values: %.4f' % gshap_values_12.sum())"
   ]
  },
  {
   "cell_type": "markdown",
   "metadata": {},
   "source": [
    "Finally, we plot our results. This plot tells us which features best distinguish Versicolour from Setosa (blue) and which features best distinguish Versicolour from Virginia (orange).\n",
    "\n",
    "More precisely, our model predicts that every iris in our sample $x$ is Versicolour, as opposed to Setosa or Virginica, with probability $p_s$, and that every iris in the background dataset is Versicolour with probability $p_b$. Each G-SHAP value $\\phi_j$ is the number of percentage points of this difference $p_s-p_b$ explained by feature $j$.\n",
    "\n",
    "For our plot, we normalize the G-SHAP values to compare feature importances for distinguishing Versicolour from Setosa, as opposed to Versicolour from Viginica."
   ]
  },
  {
   "cell_type": "code",
   "execution_count": 8,
   "metadata": {},
   "outputs": [
    {
     "data": {
      "image/png": "[encoded data removed]",
      "text/plain": [
       "<Figure size 438.875x360 with 1 Axes>"
      ]
     },
     "metadata": {
      "needs_background": "light"
     },
     "output_type": "display_data"
    }
   ],
   "source": [
    "df = pd.DataFrame({\n",
    "    'Features': iris['feature_names']*2,\n",
    "    'G-SHAP': list(gshap_values_10/gshap_values_10.sum()) + list(gshap_values_12/gshap_values_12.sum()), \n",
    "    'Comparison': [iris['target_names'][0]]*4 + [iris['target_names'][2]]*4\n",
    "})\n",
    "sns.catplot(\n",
    "    x='G-SHAP', \n",
    "    y='Features', \n",
    "    hue='Comparison', \n",
    "    data=df, \n",
    "    kind='bar',\n",
    "    orient='h'\n",
    ")\n",
    "plt.show()"
   ]
  },
  {
   "cell_type": "code",
   "execution_count": null,
   "metadata": {},
   "outputs": [],
   "source": []
  }
 ],
 "metadata": {
  "kernelspec": {
   "display_name": "Python 3",
   "language": "python",
   "name": "python3"
  },
  "language_info": {
   "codemirror_mode": {
    "name": "ipython",
    "version": 3
   },
   "file_extension": ".py",
   "mimetype": "text/x-python",
   "name": "python",
   "nbconvert_exporter": "python",
   "pygments_lexer": "ipython3",
   "version": "3.6.8"
  }
 },
 "nbformat": 4,
 "nbformat_minor": 4
}
