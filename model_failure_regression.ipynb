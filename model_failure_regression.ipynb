{
 "cells": [
  {
   "cell_type": "markdown",
   "metadata": {},
   "source": [
    "# Model Failure Explanations for Regression\n",
    "\n",
    "This notebook shows how to produce model failure explanations for regression problems with general SHAP values.\n",
    "\n",
    "In this example, we construct a model to forecast GDP, then ask why it failed to predict the 2008-2009 financial crisis. We find that real estate loans as a percent of GDP is the most important variable.\n",
    "\n",
    "This question is a specific example of a general question: Why did our model perform poorly on sample $x$?"
   ]
  },
  {
   "cell_type": "code",
   "execution_count": 1,
   "metadata": {},
   "outputs": [],
   "source": [
    "import warnings\n",
    "warnings.simplefilter('ignore')\n",
    "\n",
    "import gshap\n",
    "from gshap.datasets import load_gdp\n",
    "\n",
    "import matplotlib.pyplot as plt\n",
    "import numpy as np\n",
    "import pandas as pd\n",
    "import seaborn as sns\n",
    "from sklearn.decomposition import PCA\n",
    "from sklearn.metrics import r2_score\n",
    "from sklearn.neighbors import KernelDensity\n",
    "\n",
    "from datetime import datetime"
   ]
  },
  {
   "cell_type": "markdown",
   "metadata": {},
   "source": [
    "We begin by loading the GDP dataset (compiled from FRED data). We will forecast GDP 1 year in advance, so we lag our $X$ variables by 1 timestep."
   ]
  },
  {
   "cell_type": "code",
   "execution_count": 2,
   "metadata": {},
   "outputs": [],
   "source": [
    "gdp = load_gdp()\n",
    "X, y = gdp.data, gdp.target.iloc[1:]\n",
    "X, date = X.drop('date', axis=1), pd.to_datetime(X['date']).iloc[1:]\n",
    "X_lagged = X.shift(1).iloc[1:]"
   ]
  },
  {
   "cell_type": "markdown",
   "metadata": {},
   "source": [
    "We will train our model on the years before the 2008 crash, and test on the years of the crash (2008-2009)."
   ]
  },
  {
   "cell_type": "code",
   "execution_count": 3,
   "metadata": {},
   "outputs": [],
   "source": [
    "train_idx = date < datetime(2008, 1, 1)\n",
    "test_idx = ~train_idx & (date <= datetime(2009, 1, 1))\n",
    "X_train, X_test, y_train, y_test = (\n",
    "    X_lagged[train_idx], X_lagged[test_idx],\n",
    "    y[train_idx], y[test_idx]\n",
    ")"
   ]
  },
  {
   "cell_type": "markdown",
   "metadata": {},
   "source": [
    "Compute the sample weights using the inverse frequency of the outcome variable for the training and test datasets. Because our test dataset is small, this will not make much difference. I include it as a best practice."
   ]
  },
  {
   "cell_type": "code",
   "execution_count": 4,
   "metadata": {},
   "outputs": [],
   "source": [
    "def compute_sample_weight(y):\n",
    "    kde = KernelDensity(bandwidth=.1, kernel='linear')\n",
    "    y = y.values.reshape(y.shape[0], 1)\n",
    "    kde.fit(y)\n",
    "    return 1/np.exp(kde.score_samples(y))\n",
    "\n",
    "sample_weight_train = compute_sample_weight(y_train)\n",
    "sample_weight_test = compute_sample_weight(y_test)"
   ]
  },
  {
   "cell_type": "markdown",
   "metadata": {},
   "source": [
    "Define a version of KNN regression which begins by running PCA on the input data."
   ]
  },
  {
   "cell_type": "code",
   "execution_count": 5,
   "metadata": {},
   "outputs": [],
   "source": [
    "from sklearn.neighbors import KNeighborsRegressor as KNeighborsRegressorMixin\n",
    "\n",
    "class KNeighborsRegressor(KNeighborsRegressorMixin):\n",
    "    def __init__(self, n_neighbors=4, n_components=5):\n",
    "        super().__init__(n_neighbors)\n",
    "        self.n_components = n_components\n",
    "        \n",
    "    def fit(self, X, y):\n",
    "        self.pca = PCA(n_components=self.n_components)\n",
    "        X = self.pca.fit_transform(X)\n",
    "        return super().fit(X, y)\n",
    "    \n",
    "    def predict(self, X):\n",
    "        X = self.pca.transform(X)\n",
    "        return super().predict(X)"
   ]
  },
  {
   "cell_type": "markdown",
   "metadata": {},
   "source": [
    "Now we can train our regressor. Although our model successfully predicts GDP growth until the financial crisis, it performs worse than chance from 2008-2009. Generally, despite good performance on the training dataset, our model performs poorly on our test sample $x$."
   ]
  },
  {
   "cell_type": "code",
   "execution_count": 6,
   "metadata": {},
   "outputs": [
    {
     "name": "stdout",
     "output_type": "stream",
     "text": [
      "Train score:  0.4477\n",
      "Test score: -3.1278\n"
     ]
    }
   ],
   "source": [
    "reg = KNeighborsRegressor().fit(X_train, y_train)\n",
    "y_pred_train = reg.predict(X_train)\n",
    "y_pred_test = reg.predict(X_test)\n",
    "print('Train score: % .4f' % r2_score(y_train, y_pred_train, sample_weight_train))\n",
    "print('Test score: % .4f' % r2_score(y_test, y_pred_test, sample_weight_test))"
   ]
  },
  {
   "cell_type": "markdown",
   "metadata": {},
   "source": [
    "Here, we plot our model's GDP growth forecasts against true GDP growth. We see that our model tracks GDP growth prior to 2008, but not from 2008-2009."
   ]
  },
  {
   "cell_type": "code",
   "execution_count": 7,
   "metadata": {},
   "outputs": [
    {
     "data": {
      "image/png": "[encoded data removed]",
      "text/plain": [
       "<Figure size 432x288 with 1 Axes>"
      ]
     },
     "metadata": {
      "needs_background": "light"
     },
     "output_type": "display_data"
    }
   ],
   "source": [
    "date_plt = date[date <= datetime(2009, 1, 1)]\n",
    "y_plt = 100*np.concatenate((y_train, y_test))\n",
    "y_pred_plt = 100*np.concatenate((y_pred_train, y_pred_test))\n",
    "plt.plot(date_plt, y_plt, color='mediumblue')\n",
    "plt.plot(date_plt, y_pred_plt, color='chartreuse')\n",
    "plt.vlines(date_plt[y_train.shape[0]], -3.5, 6.5, color='r', linestyle='dashed')\n",
    "plt.legend(('Actual', 'Forecast'))\n",
    "plt.ylabel('GDP growth rate (%)')\n",
    "plt.show()"
   ]
  },
  {
   "cell_type": "markdown",
   "metadata": {},
   "source": [
    "Compute the G-SHAP values, where $g$ is weighted $R^2$ on our training data (pre-2008)."
   ]
  },
  {
   "cell_type": "code",
   "execution_count": 8,
   "metadata": {},
   "outputs": [],
   "source": [
    "g = lambda y_pred: r2_score(y_train, y_pred, sample_weight=sample_weight_train)\n",
    "explainer = gshap.KernelExplainer(reg.predict, X_train, g)\n",
    "gshap_values_train = explainer.gshap_values(X_train, nsamples=1000)"
   ]
  },
  {
   "cell_type": "markdown",
   "metadata": {},
   "source": [
    "For interpretation, we compare the training data to the background dataset in terms of $g$. We see that the predictions for the training data (pre-2008) have a higher $R^2$ than for the shuffled background data.\n",
    "\n",
    "The sum of the G-SHAP values should approximately equal the difference in performance between the training data and the shuffled background data (allowing for samplign error)."
   ]
  },
  {
   "cell_type": "code",
   "execution_count": 9,
   "metadata": {},
   "outputs": [
    {
     "name": "stdout",
     "output_type": "stream",
     "text": [
      "R-squared for the training data: 0.4477\n",
      "R-squared for the shuffled background data: -0.2030\n",
      "Sum of G-SHAP values: 0.6475\n"
     ]
    }
   ],
   "source": [
    "g_comparison, g_background = explainer.compare(X_train, bootstrap_samples=1000)\n",
    "print('R-squared for the training data: %.4f' % g_comparison)\n",
    "print('R-squared for the shuffled background data: %.4f' % g_background)\n",
    "print('Sum of G-SHAP values: %.4f' % gshap_values_train.sum())"
   ]
  },
  {
   "cell_type": "markdown",
   "metadata": {},
   "source": [
    "To compare training and test performance, we repeat this exercise for our test data (2008-2009)."
   ]
  },
  {
   "cell_type": "code",
   "execution_count": 10,
   "metadata": {},
   "outputs": [],
   "source": [
    "g = lambda y_pred: r2_score(y_test, y_pred, sample_weight=sample_weight_test)\n",
    "explainer = gshap.KernelExplainer(reg.predict, X_train, g)\n",
    "gshap_values_test = explainer.gshap_values(X_test, nsamples=1000)"
   ]
  },
  {
   "cell_type": "code",
   "execution_count": 11,
   "metadata": {},
   "outputs": [
    {
     "name": "stdout",
     "output_type": "stream",
     "text": [
      "R-squared for the test data: -3.1278\n",
      "R-squared for the shuffled background data: -3.9021\n",
      "Sum of the G-SHAP values: 0.7455\n"
     ]
    }
   ],
   "source": [
    "g_comparison, g_background = explainer.compare(X_test, bootstrap_samples=1000)\n",
    "print('R-squared for the test data: %.4f' % g_comparison)\n",
    "print('R-squared for the shuffled background data: %.4f' % g_background)\n",
    "print('Sum of the G-SHAP values: %.4f' % gshap_values_test.sum())"
   ]
  },
  {
   "cell_type": "markdown",
   "metadata": {},
   "source": [
    "Finally, we plot our results. This plot tells us the extent to which each variable contributes to model performance.\n",
    "\n",
    "More precisely, our model has a performance score of $p_s$ for our sample $x$, and a performance score of $p_b$ for the shuffled background data. Each G-SHAP value $\\phi_j$ is the difference in performance explained by feature $j$. A negative G-SHAP value indicates that feature $j$ degraded the model's performance.\n",
    "\n",
    "Because the performance of the background dataset differs between our training and test $g$ functions, we normalize the G-SHAP values in order to compare training and test performance. We see that our model failed to predict the 2008 crisis due to real estate loans as a percent of GDP (RELoansPctGDP)."
   ]
  },
  {
   "cell_type": "code",
   "execution_count": 12,
   "metadata": {},
   "outputs": [
    {
     "data": {
      "image/png": "[encoded data removed]",
      "text/plain": [
       "<Figure size 420x360 with 1 Axes>"
      ]
     },
     "metadata": {
      "needs_background": "light"
     },
     "output_type": "display_data"
    }
   ],
   "source": [
    "df = pd.DataFrame({\n",
    "    'Features': X.columns,\n",
    "    'Train': gshap_values_train/gshap_values_train.sum(),\n",
    "    'Test': gshap_values_test/gshap_values_test.sum(),\n",
    "})\n",
    "df = df.sort_values('Test')\n",
    "df = pd.melt(\n",
    "    df, \n",
    "    id_vars='Features',\n",
    "    value_vars=['Test', 'Train'],\n",
    "    var_name='Dataset',\n",
    "    value_name='G-SHAP',\n",
    ")\n",
    "sns.catplot(\n",
    "    x='G-SHAP',\n",
    "    y='Features',\n",
    "    hue='Dataset',\n",
    "    data=df,\n",
    "    kind='bar',\n",
    "    orient='h'\n",
    ")\n",
    "plt.show()"
   ]
  },
  {
   "cell_type": "code",
   "execution_count": null,
   "metadata": {},
   "outputs": [],
   "source": []
  }
 ],
 "metadata": {
  "kernelspec": {
   "display_name": "Python 3",
   "language": "python",
   "name": "python3"
  },
  "language_info": {
   "codemirror_mode": {
    "name": "ipython",
    "version": 3
   },
   "file_extension": ".py",
   "mimetype": "text/x-python",
   "name": "python",
   "nbconvert_exporter": "python",
   "pygments_lexer": "ipython3",
   "version": "3.6.8"
  }
 },
 "nbformat": 4,
 "nbformat_minor": 4
}
