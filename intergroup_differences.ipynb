{
 "cells": [
  {
   "cell_type": "markdown",
   "metadata": {},
   "source": [
    "# Intergroup Difference Explanations with G-SHAP\n",
    "\n",
    "G-SHAP allows us to ask why model predictions differ between groups.\n",
    "\n",
    "In this example, we train a model to predict whether a convicted criminal will reoffend within two years. The model predicts substantially higher rates of recidivism for Blacks compared with non-Blacks. We use G-SHAP to identify what variables drive this difference.\n",
    "\n",
    "We find that the most important variables are prior convictions, age, and a low level of probation supervision.\n",
    "\n",
    "Additionally, we create a `BlindClassifier`, which blinds our original classifier to a user-specified list of variables. In this example, we blind our model to age and race. This slightly reduces accuracy and greatly decreases racial disparities."
   ]
  },
  {
   "cell_type": "markdown",
   "metadata": {},
   "source": [
    "## Setup"
   ]
  },
  {
   "cell_type": "code",
   "execution_count": 1,
   "metadata": {},
   "outputs": [],
   "source": [
    "import warnings\n",
    "warnings.simplefilter('ignore')\n",
    "\n",
    "import gshap\n",
    "from gshap.datasets import load_recidivism\n",
    "from gshap import intergroup\n",
    "from gshap.intergroup import IntergroupDifference, BlindClassifier\n",
    "\n",
    "from sklearn.metrics import accuracy_score\n",
    "from sklearn.model_selection import train_test_split\n",
    "from sklearn.svm import SVC\n",
    "import matplotlib.pyplot as plt\n",
    "import pandas as pd\n",
    "import seaborn as sns"
   ]
  },
  {
   "cell_type": "markdown",
   "metadata": {},
   "source": [
    "We begin by loading the recidivism dataset (courtesy of Propublica's COMPAS analysis) and training our classifier."
   ]
  },
  {
   "cell_type": "code",
   "execution_count": 2,
   "metadata": {},
   "outputs": [
    {
     "name": "stdout",
     "output_type": "stream",
     "text": [
      "Test score: 0.6720\n"
     ]
    }
   ],
   "source": [
    "recidivism = load_recidivism()\n",
    "X, y = recidivism.data, recidivism.target\n",
    "X_train, X_test, y_train, y_test = train_test_split(X, y, test_size=1000)\n",
    "clf = SVC()\n",
    "clf.fit(X_train, y_train)\n",
    "print('Test score: %.4f' % clf.score(X_test, y_test))"
   ]
  },
  {
   "cell_type": "markdown",
   "metadata": {},
   "source": [
    "Next we create a blind version of our classifier. The `BlindClassifier` subsitutes random values from the training dataset into the blinded columns before sending the data to the original classifier for prediction. The `BlindClassifier` repeats this for `nsamples` iterations, then outputs the modal prediction."
   ]
  },
  {
   "cell_type": "code",
   "execution_count": 3,
   "metadata": {},
   "outputs": [
    {
     "name": "stdout",
     "output_type": "stream",
     "text": [
      "Test score: 0.6140\n"
     ]
    }
   ],
   "source": [
    "blind_clf = BlindClassifier(\n",
    "    clf.predict, \n",
    "    X_train, \n",
    "    ('age','black'),\n",
    "    nsamples=1\n",
    ")\n",
    "accuracy = accuracy_score(blind_clf.predict(X_test), y_test)\n",
    "print('Test score: %.4f' % accuracy)"
   ]
  },
  {
   "cell_type": "markdown",
   "metadata": {},
   "source": [
    "## Preliminary analysis (not essential)\n",
    "\n",
    "First, we compute the predicted two-year recidivism rate for Black and non-Blacks using the original model and the blind model, and plot the results. Second, we plot correlations between key variables."
   ]
  },
  {
   "cell_type": "code",
   "execution_count": 4,
   "metadata": {},
   "outputs": [
    {
     "name": "stdout",
     "output_type": "stream",
     "text": [
      "Predicted two-year recidivism rate for non-Blacks:  0.41\n",
      "Predicted two-year recidivism rate for Blacks:  0.66\n",
      "Relative difference:  0.62\n"
     ]
    }
   ],
   "source": [
    "df = pd.concat((X_test, y_test), axis=1)\n",
    "df['y_pred'] = clf.predict(X_test)\n",
    "p_non_black, p_black = df.groupby('black')['y_pred'].mean()\n",
    "print('Predicted two-year recidivism rate for non-Blacks: % .2f' % p_non_black)\n",
    "print('Predicted two-year recidivism rate for Blacks: % .2f' % p_black)\n",
    "print('Relative difference: % .2f' % (p_black/p_non_black - 1))"
   ]
  },
  {
   "cell_type": "code",
   "execution_count": 5,
   "metadata": {},
   "outputs": [
    {
     "name": "stdout",
     "output_type": "stream",
     "text": [
      "Predicted two-year recidivism rate for non-Blacks:  0.41\n",
      "Predicted two-year recidivism rate for Blacks:  0.54\n",
      "Relative difference:  0.32\n"
     ]
    }
   ],
   "source": [
    "df['blind_y_pred'] = blind_clf.predict(X_test)\n",
    "p_non_black, p_black = df.groupby('black')['blind_y_pred'].mean()\n",
    "print('Predicted two-year recidivism rate for non-Blacks: % .2f' % p_non_black)\n",
    "print('Predicted two-year recidivism rate for Blacks: % .2f' % p_black)\n",
    "print('Relative difference: % .2f' % (p_black/p_non_black - 1))"
   ]
  },
  {
   "cell_type": "code",
   "execution_count": 6,
   "metadata": {},
   "outputs": [
    {
     "data": {
      "image/png": "[encoded data removed]",
      "text/plain": [
       "<Figure size 432x288 with 1 Axes>"
      ]
     },
     "metadata": {
      "needs_background": "light"
     },
     "output_type": "display_data"
    }
   ],
   "source": [
    "df['id'] = df.index\n",
    "df = df.melt(('id', 'black'), value_vars=('y_pred', 'blind_y_pred'))\n",
    "sns.barplot(y='value', x='black', hue='variable', data=df)\n",
    "plt.show()"
   ]
  },
  {
   "cell_type": "code",
   "execution_count": 7,
   "metadata": {},
   "outputs": [
    {
     "data": {
      "image/png": "[encoded data removed]",
      "text/plain": [
       "<Figure size 471x360 with 1 Axes>"
      ]
     },
     "metadata": {
      "needs_background": "light"
     },
     "output_type": "display_data"
    }
   ],
   "source": [
    "corr_df = recidivism.df[[\n",
    "    'black', 'priors_count', 'age', 'high_supervision', 'two_year_recid'\n",
    "]].corr().reset_index()\n",
    "corr_df = corr_df.melt('index', value_vars=['black', 'two_year_recid'])\n",
    "sns.catplot(\n",
    "    x='value',\n",
    "    y='index',\n",
    "    hue='variable',\n",
    "    data=corr_df,\n",
    "    kind='bar',\n",
    "    orient='h'\n",
    ")\n",
    "plt.show()"
   ]
  },
  {
   "cell_type": "markdown",
   "metadata": {},
   "source": [
    "## G-SHAP for Intergroup Differences\n",
    "\n",
    "Compute the G-SHAP values for our original and blind models, where $g$ is `IntergroupDifference`. This measures the relative difference in predicted recidivism rates between Blacks and non-Blacks."
   ]
  },
  {
   "cell_type": "code",
   "execution_count": 8,
   "metadata": {},
   "outputs": [],
   "source": [
    "distance = intergroup.mean_relative_distance\n",
    "g = IntergroupDifference(X_test['black'], distance)\n",
    "explainer = gshap.KernelExplainer(clf.predict, X_train, g)\n",
    "gshap_values = explainer.gshap_values(X_test, nsamples=32)"
   ]
  },
  {
   "cell_type": "code",
   "execution_count": 9,
   "metadata": {},
   "outputs": [],
   "source": [
    "explainer = gshap.KernelExplainer(blind_clf.predict, X_train, g)\n",
    "blind_gshap_values = explainer.gshap_values(X_test, nsamples=32)"
   ]
  },
  {
   "cell_type": "markdown",
   "metadata": {},
   "source": [
    "Finally, we display the results. This plot tells us which features drive the disparity between Blacks and non-Blacks. For our blind model, notice that the features to which the model is blind (age and race) have no effect."
   ]
  },
  {
   "cell_type": "code",
   "execution_count": 10,
   "metadata": {},
   "outputs": [
    {
     "data": {
      "image/png": "[encoded data removed]",
      "text/plain": [
       "<Figure size 432x288 with 1 Axes>"
      ]
     },
     "metadata": {
      "needs_background": "light"
     },
     "output_type": "display_data"
    }
   ],
   "source": [
    "df = pd.DataFrame({\n",
    "    'Feature': X.columns, \n",
    "    'G-SHAP': 100*gshap_values,\n",
    "    'BlindG-SHAP': 100*blind_gshap_values\n",
    "})\n",
    "df = df.sort_values('G-SHAP', ascending=False).reset_index(drop=True)\n",
    "df = df.melt('Feature', value_vars=('G-SHAP', 'BlindG-SHAP'))\n",
    "sns.barplot(y='Feature', x='value', hue='variable', data=df)\n",
    "plt.show()"
   ]
  },
  {
   "cell_type": "code",
   "execution_count": 17,
   "metadata": {},
   "outputs": [
    {
     "data": {
      "text/html": [
       "<div>\n",
       "<style scoped>\n",
       "    .dataframe tbody tr th:only-of-type {\n",
       "        vertical-align: middle;\n",
       "    }\n",
       "\n",
       "    .dataframe tbody tr th {\n",
       "        vertical-align: top;\n",
       "    }\n",
       "\n",
       "    .dataframe thead th {\n",
       "        text-align: right;\n",
       "    }\n",
       "</style>\n",
       "<table border=\"1\" class=\"dataframe\">\n",
       "  <thead>\n",
       "    <tr style=\"text-align: right;\">\n",
       "      <th></th>\n",
       "      <th>Feature</th>\n",
       "      <th>G-SHAP</th>\n",
       "      <th>BlindG-SHAP</th>\n",
       "    </tr>\n",
       "  </thead>\n",
       "  <tbody>\n",
       "    <tr>\n",
       "      <th>0</th>\n",
       "      <td>male</td>\n",
       "      <td>-0.594638</td>\n",
       "      <td>2.084564</td>\n",
       "    </tr>\n",
       "    <tr>\n",
       "      <th>1</th>\n",
       "      <td>age</td>\n",
       "      <td>18.802684</td>\n",
       "      <td>-0.771544</td>\n",
       "    </tr>\n",
       "    <tr>\n",
       "      <th>2</th>\n",
       "      <td>juv_fel_count</td>\n",
       "      <td>0.033421</td>\n",
       "      <td>-3.840467</td>\n",
       "    </tr>\n",
       "    <tr>\n",
       "      <th>3</th>\n",
       "      <td>juv_misd_count</td>\n",
       "      <td>-0.105220</td>\n",
       "      <td>-3.515753</td>\n",
       "    </tr>\n",
       "    <tr>\n",
       "      <th>4</th>\n",
       "      <td>juv_other_count</td>\n",
       "      <td>-0.353855</td>\n",
       "      <td>-1.895008</td>\n",
       "    </tr>\n",
       "    <tr>\n",
       "      <th>5</th>\n",
       "      <td>priors_count</td>\n",
       "      <td>36.777856</td>\n",
       "      <td>27.052925</td>\n",
       "    </tr>\n",
       "    <tr>\n",
       "      <th>6</th>\n",
       "      <td>felony</td>\n",
       "      <td>0.057171</td>\n",
       "      <td>1.782718</td>\n",
       "    </tr>\n",
       "    <tr>\n",
       "      <th>7</th>\n",
       "      <td>black</td>\n",
       "      <td>4.365974</td>\n",
       "      <td>0.970293</td>\n",
       "    </tr>\n",
       "    <tr>\n",
       "      <th>8</th>\n",
       "      <td>married</td>\n",
       "      <td>0.168674</td>\n",
       "      <td>-1.052628</td>\n",
       "    </tr>\n",
       "    <tr>\n",
       "      <th>9</th>\n",
       "      <td>high_supervision</td>\n",
       "      <td>1.236099</td>\n",
       "      <td>-0.055651</td>\n",
       "    </tr>\n",
       "  </tbody>\n",
       "</table>\n",
       "</div>"
      ],
      "text/plain": [
       "            Feature     G-SHAP  BlindG-SHAP\n",
       "0              male  -0.594638     2.084564\n",
       "1               age  18.802684    -0.771544\n",
       "2     juv_fel_count   0.033421    -3.840467\n",
       "3    juv_misd_count  -0.105220    -3.515753\n",
       "4   juv_other_count  -0.353855    -1.895008\n",
       "5      priors_count  36.777856    27.052925\n",
       "6            felony   0.057171     1.782718\n",
       "7             black   4.365974     0.970293\n",
       "8           married   0.168674    -1.052628\n",
       "9  high_supervision   1.236099    -0.055651"
      ]
     },
     "execution_count": 17,
     "metadata": {},
     "output_type": "execute_result"
    }
   ],
   "source": [
    "df = pd.DataFrame({\n",
    "    'Feature': X.columns, \n",
    "    'G-SHAP': 100*gshap_values,\n",
    "    'BlindG-SHAP': 100*blind_gshap_values\n",
    "})\n",
    "df\n",
    "# df = df.sort_values('G-SHAP', ascending=False).reset_index(drop=True)[:4]\n",
    "# df = df.melt('Feature', value_vars=('G-SHAP', 'BlindG-SHAP'))\n",
    "# sns.barplot(y='Feature', x='value', hue='variable', data=df)\n",
    "# plt.show()"
   ]
  },
  {
   "cell_type": "code",
   "execution_count": null,
   "metadata": {},
   "outputs": [],
   "source": []
  }
 ],
 "metadata": {
  "kernelspec": {
   "display_name": "Python 3",
   "language": "python",
   "name": "python3"
  },
  "language_info": {
   "codemirror_mode": {
    "name": "ipython",
    "version": 3
   },
   "file_extension": ".py",
   "mimetype": "text/x-python",
   "name": "python",
   "nbconvert_exporter": "python",
   "pygments_lexer": "ipython3",
   "version": "3.6.8"
  }
 },
 "nbformat": 4,
 "nbformat_minor": 4
}
