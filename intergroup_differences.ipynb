{
 "cells": [
  {
   "cell_type": "markdown",
   "metadata": {},
   "source": [
    "# Intergroup Difference Explanations with G-SHAP\n",
    "\n",
    "G-SHAP allows us to ask why model predictions differ between groups.\n",
    "\n",
    "In this example, we train a model to predict whether a convicted criminal will reoffend within two years. The model predicts substantially higher rates of recidivism for Blacks compared with non-Blacks. We use G-SHAP to identify what variables drive this difference.\n",
    "\n",
    "We find that the most important variables are prior convictions, age, and a low level of probation supervision.\n",
    "\n",
    "Additionally, we create a `BlindClassifier`, which blinds our original classifier to a user-specified list of variables. In this example, we blind our model to age and race. This slightly reduces accuracy and greatly decreases racial disparities."
   ]
  },
  {
   "cell_type": "markdown",
   "metadata": {},
   "source": [
    "## Preliminaries"
   ]
  },
  {
   "cell_type": "code",
   "execution_count": 1,
   "metadata": {},
   "outputs": [],
   "source": [
    "import warnings\n",
    "warnings.simplefilter('ignore')\n",
    "\n",
    "import gshap\n",
    "from gshap.datasets import load_recidivism\n",
    "from gshap import intergroup\n",
    "from gshap.intergroup import IntergroupDifference, BlindClassifier\n",
    "\n",
    "from sklearn.metrics import accuracy_score\n",
    "from sklearn.model_selection import train_test_split\n",
    "from sklearn.svm import SVC\n",
    "import matplotlib.pyplot as plt\n",
    "import pandas as pd\n",
    "import seaborn as sns"
   ]
  },
  {
   "cell_type": "markdown",
   "metadata": {},
   "source": [
    "We begin by loading the recidivism dataset (courtesy of Propublica's COMPAS analysis) and training our classifier."
   ]
  },
  {
   "cell_type": "code",
   "execution_count": 2,
   "metadata": {},
   "outputs": [
    {
     "name": "stdout",
     "output_type": "stream",
     "text": [
      "Test score: 0.6660\n"
     ]
    }
   ],
   "source": [
    "recidivism = load_recidivism()\n",
    "X, y = recidivism.data, recidivism.target\n",
    "X_train, X_test, y_train, y_test = train_test_split(X, y, test_size=1000)\n",
    "clf = SVC()\n",
    "clf.fit(X_train, y_train)\n",
    "print('Test score: %.4f' % clf.score(X_test, y_test))"
   ]
  },
  {
   "cell_type": "markdown",
   "metadata": {},
   "source": [
    "Next we create a blind version of our classifier. The `BlindClassifier` subsitutes random values from the training dataset into the blinded columns before sending the data to the original classifier for prediction. The `BlindClassifier` repeats this for `nsamples` iterations, then outputs the modal prediction."
   ]
  },
  {
   "cell_type": "code",
   "execution_count": 3,
   "metadata": {},
   "outputs": [
    {
     "name": "stdout",
     "output_type": "stream",
     "text": [
      "Test score: 0.6110\n"
     ]
    }
   ],
   "source": [
    "blind_clf = BlindClassifier(\n",
    "    clf.predict, \n",
    "    X_train, \n",
    "    ('age','African-American','Caucasian'),\n",
    "    nsamples=1\n",
    ")\n",
    "accuracy = accuracy_score(blind_clf.predict(X_test), y_test)\n",
    "print('Test score: %.4f' % accuracy)"
   ]
  },
  {
   "cell_type": "markdown",
   "metadata": {},
   "source": [
    "## Preliminary analysis (not essential)\n",
    "\n",
    "First, we compute the predicted two-year recidivism rate for Black and non-Blacks using the original model and the blind model, and plot the results. Second, we plot correlations between key variables."
   ]
  },
  {
   "cell_type": "code",
   "execution_count": 4,
   "metadata": {},
   "outputs": [
    {
     "name": "stdout",
     "output_type": "stream",
     "text": [
      "Predicted two-year recidivism rate for non-Blacks:  0.31\n",
      "Predicted two-year recidivism rate for Blacks:  0.64\n",
      "Relative difference:  1.06\n"
     ]
    }
   ],
   "source": [
    "df = pd.concat((X_test, y_test), axis=1)\n",
    "df['y_pred'] = clf.predict(X_test)\n",
    "p_non_black, p_black = df.groupby('African-American')['y_pred'].mean()\n",
    "print('Predicted two-year recidivism rate for non-Blacks: % .2f' % p_non_black)\n",
    "print('Predicted two-year recidivism rate for Blacks: % .2f' % p_black)\n",
    "print('Relative difference: % .2f' % (p_black/p_non_black - 1))"
   ]
  },
  {
   "cell_type": "code",
   "execution_count": 5,
   "metadata": {},
   "outputs": [
    {
     "name": "stdout",
     "output_type": "stream",
     "text": [
      "Predicted two-year recidivism rate for non-Blacks:  0.35\n",
      "Predicted two-year recidivism rate for Blacks:  0.57\n",
      "Relative difference:  0.63\n"
     ]
    }
   ],
   "source": [
    "df['blind_y_pred'] = blind_clf.predict(X_test)\n",
    "p_non_black, p_black = df.groupby('African-American')['blind_y_pred'].mean()\n",
    "print('Predicted two-year recidivism rate for non-Blacks: % .2f' % p_non_black)\n",
    "print('Predicted two-year recidivism rate for Blacks: % .2f' % p_black)\n",
    "print('Relative difference: % .2f' % (p_black/p_non_black - 1))"
   ]
  },
  {
   "cell_type": "code",
   "execution_count": 6,
   "metadata": {},
   "outputs": [
    {
     "data": {
      "image/png": "[encoded data removed]",
      "text/plain": [
       "<Figure size 432x288 with 1 Axes>"
      ]
     },
     "metadata": {
      "needs_background": "light"
     },
     "output_type": "display_data"
    }
   ],
   "source": [
    "df['id'] = df.index\n",
    "df = df.melt(('id', 'African-American'), value_vars=('y_pred', 'blind_y_pred'))\n",
    "sns.barplot(y='value', x='African-American', hue='variable', data=df)\n",
    "plt.show()"
   ]
  },
  {
   "cell_type": "code",
   "execution_count": 7,
   "metadata": {},
   "outputs": [
    {
     "data": {
      "image/png": "[encoded data removed]",
      "text/plain": [
       "<Figure size 482.125x360 with 1 Axes>"
      ]
     },
     "metadata": {
      "needs_background": "light"
     },
     "output_type": "display_data"
    }
   ],
   "source": [
    "corr_df = recidivism.df[[\n",
    "    'African-American', 'priors_count', 'age', 'supervision_Low', 'two_year_recid'\n",
    "]].corr().reset_index()\n",
    "corr_df = corr_df.melt(\n",
    "    'index', \n",
    "    value_vars=['African-American', 'two_year_recid']\n",
    ")\n",
    "sns.catplot(\n",
    "    x='value',\n",
    "    y='index',\n",
    "    hue='variable',\n",
    "    data=corr_df,\n",
    "    kind='bar',\n",
    "    orient='h'\n",
    ")\n",
    "plt.show()"
   ]
  },
  {
   "cell_type": "markdown",
   "metadata": {},
   "source": [
    "## G-SHAP for Intergroup Differences\n",
    "\n",
    "Compute the G-SHAP values for our original and blind models, where $g$ is `IntergroupDifference`. This measures the relative difference in predicted recidivism rates between Blacks and non-Blacks."
   ]
  },
  {
   "cell_type": "code",
   "execution_count": 8,
   "metadata": {},
   "outputs": [],
   "source": [
    "distance = intergroup.mean_relative_distance\n",
    "g = IntergroupDifference(X_test['African-American'], distance)\n",
    "explainer = gshap.KernelExplainer(clf.predict, X_train, g)\n",
    "gshap_values = explainer.gshap_values(X_test, nsamples=32)"
   ]
  },
  {
   "cell_type": "code",
   "execution_count": 9,
   "metadata": {},
   "outputs": [],
   "source": [
    "explainer = gshap.KernelExplainer(blind_clf.predict, X_train, g)\n",
    "blind_gshap_values = explainer.gshap_values(X_test, nsamples=32)"
   ]
  },
  {
   "cell_type": "markdown",
   "metadata": {},
   "source": [
    "Finally, we display the results. This plot tells us which features drive the disparity between Blacks and non-Blacks. For our blind model, notice that the features to which the model is blind (age and race) have no effect."
   ]
  },
  {
   "cell_type": "code",
   "execution_count": 13,
   "metadata": {},
   "outputs": [
    {
     "data": {
      "image/png": "[encoded data removed]",
      "text/plain": [
       "<Figure size 432x288 with 1 Axes>"
      ]
     },
     "metadata": {
      "needs_background": "light"
     },
     "output_type": "display_data"
    }
   ],
   "source": [
    "df = pd.DataFrame({\n",
    "    'Feature': X.columns, \n",
    "    'G-SHAP': 100*gshap_values,\n",
    "    'BlindG-SHAP': 100*blind_gshap_values\n",
    "})\n",
    "df = df.sort_values('G-SHAP', ascending=False).reset_index(drop=True)[:4]\n",
    "df = df.melt('Feature', value_vars=('G-SHAP', 'BlindG-SHAP'))\n",
    "sns.barplot(y='Feature', x='value', hue='variable', data=df)\n",
    "plt.show()"
   ]
  },
  {
   "cell_type": "code",
   "execution_count": null,
   "metadata": {},
   "outputs": [],
   "source": []
  }
 ],
 "metadata": {
  "kernelspec": {
   "display_name": "Python 3",
   "language": "python",
   "name": "python3"
  },
  "language_info": {
   "codemirror_mode": {
    "name": "ipython",
    "version": 3
   },
   "file_extension": ".py",
   "mimetype": "text/x-python",
   "name": "python",
   "nbconvert_exporter": "python",
   "pygments_lexer": "ipython3",
   "version": "3.6.8"
  }
 },
 "nbformat": 4,
 "nbformat_minor": 4
}
