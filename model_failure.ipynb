{
 "cells": [
  {
   "cell_type": "markdown",
   "metadata": {},
   "source": [
    "# Model Failure Explanations for Regression\n",
    "\n",
    "**Example.** In this example, we create a model to forecast GDP growth based on macroeconomic variables, then ask why it fails to predict the 2008-2009 financial crisis. We find that a high volume of real estate loans as a percent of GDP in 2007-2008 was detrimental to model performance. \n",
    "\n",
    "**General formulation.** More generally, we can ask why our model performed poorly on sample $X$, as measured by loss function $L$. Here, our sample is the years 2008-2009, and our loss function is $R^2$."
   ]
  },
  {
   "cell_type": "code",
   "execution_count": 1,
   "metadata": {
    "ExecuteTime": {
     "end_time": "2020-06-04T14:19:16.768710Z",
     "start_time": "2020-06-04T14:19:15.093176Z"
    }
   },
   "outputs": [],
   "source": [
    "import warnings\n",
    "warnings.simplefilter('ignore')\n",
    "\n",
    "import gshap\n",
    "from gshap.datasets import load_gdp\n",
    "\n",
    "import matplotlib.pyplot as plt\n",
    "import numpy as np\n",
    "import pandas as pd\n",
    "import seaborn as sns\n",
    "from sklearn.decomposition import PCA\n",
    "from sklearn.metrics import r2_score\n",
    "from sklearn.neighbors import KNeighborsRegressor as KNeighborsRegressorMixin\n",
    "\n",
    "import os\n",
    "import random\n",
    "from datetime import datetime\n",
    "\n",
    "np.random.seed(0)\n",
    "random.seed(0)\n",
    "\n",
    "# directory for saving figures\n",
    "# set to `None` to avoid saving\n",
    "PLOT_DIR = 'plots'"
   ]
  },
  {
   "cell_type": "markdown",
   "metadata": {},
   "source": [
    "**Model.** We train a model on a GDP dataset with annual data, in which we produce 1-year ahead GDP growth forecasts based on 6 macroeconomic variables: growth in government expenditure, investment, consumption, exports, and imports, and real estate loans from commercial banks as a percent of GDP. Our model first uses principal components analysis to reduce our data to 5 dimensions, then applies a K-nearest neighbors algorithm with 4 neighbors. The number of principal components and neighbors were tuned using Scikit-learn's grid search, training on data from 1975-1990 and validating on data from 1991-2007. Our model achieves a validation $R^2$ of .26. Retraining the model on the full training dataset (1975-2007), we achieve a training $R^2$ of .40. However, our forecasts for 2008-2009 perform worse than chance: $R^2=-3.13$.\n",
    "\n",
    "For brevity, the hyperparameter tuning code is in a separate notebook."
   ]
  },
  {
   "cell_type": "code",
   "execution_count": 2,
   "metadata": {
    "ExecuteTime": {
     "end_time": "2020-06-04T14:19:16.842575Z",
     "start_time": "2020-06-04T14:19:16.771099Z"
    }
   },
   "outputs": [
    {
     "name": "stdout",
     "output_type": "stream",
     "text": [
      "Train score:  0.3958\n",
      "Test score: -3.1278\n"
     ]
    }
   ],
   "source": [
    "# define a version of KNN which begins by running PCA on input data\n",
    "class KNeighborsRegressor(KNeighborsRegressorMixin):\n",
    "    def __init__(self, n_neighbors=4, n_components=5):\n",
    "        super().__init__(n_neighbors)\n",
    "        self.n_components = n_components\n",
    "        \n",
    "    def fit(self, X, y):\n",
    "        self.pca = PCA(n_components=self.n_components)\n",
    "        X = self.pca.fit_transform(X)\n",
    "        return super().fit(X, y)\n",
    "    \n",
    "    def predict(self, X):\n",
    "        X = self.pca.transform(X)\n",
    "        return super().predict(X)\n",
    "\n",
    "# load the GDP dataset\n",
    "gdp = load_gdp()\n",
    "X, y = gdp.data, gdp.target.iloc[1:]\n",
    "\n",
    "# lag the X variables by 1 time step (1 year)\n",
    "X, date = X.drop('date', axis=1), pd.to_datetime(X['date']).iloc[1:]\n",
    "X_lagged = X.shift(1).iloc[1:]\n",
    "\n",
    "# train on years 1975-2007; predict on 2008-2009\n",
    "train_idx = date < datetime(2008, 1, 1)\n",
    "test_idx = ~train_idx & (date <= datetime(2009, 1, 1))\n",
    "X_train, X_test, y_train, y_test = (\n",
    "    X_lagged[train_idx], X_lagged[test_idx],\n",
    "    y[train_idx], y[test_idx]\n",
    ") \n",
    "\n",
    "# training and evaluation\n",
    "reg = KNeighborsRegressor().fit(X_train, y_train)\n",
    "y_pred_train = reg.predict(X_train)\n",
    "y_pred_test = reg.predict(X_test)\n",
    "print('Train score: % .4f' % r2_score(y_train, y_pred_train))\n",
    "print('Test score: % .4f' % r2_score(y_test, y_pred_test))"
   ]
  },
  {
   "cell_type": "markdown",
   "metadata": {},
   "source": [
    "From this figure, it is clear that our model fails to forecast the financial crisis."
   ]
  },
  {
   "cell_type": "code",
   "execution_count": 3,
   "metadata": {
    "ExecuteTime": {
     "end_time": "2020-06-04T14:19:17.367585Z",
     "start_time": "2020-06-04T14:19:16.846980Z"
    }
   },
   "outputs": [
    {
     "data": {
      "image/png": "[encoded data removed]",
      "text/plain": [
       "<Figure size 432x288 with 1 Axes>"
      ]
     },
     "metadata": {
      "needs_background": "light"
     },
     "output_type": "display_data"
    }
   ],
   "source": [
    "date_plt = date[date <= datetime(2009, 1, 1)]\n",
    "y_plt = 100*np.concatenate((y_train, y_test))\n",
    "y_pred_plt = 100*np.concatenate((y_pred_train, y_pred_test))\n",
    "plt.plot(date_plt, y_plt, color='mediumblue')\n",
    "plt.plot(date_plt, y_pred_plt, color='chartreuse')\n",
    "plt.vlines(date_plt[y_train.shape[0]], -3.5, 6.5, color='r', linestyle='dashed')\n",
    "plt.legend(('Actual', 'Forecast'))\n",
    "plt.ylabel('GDP growth rate (%)')\n",
    "if PLOT_DIR is not None:\n",
    "    plt.savefig(os.path.join(PLOT_DIR, 'gdp_forecast.png'))\n",
    "plt.show()"
   ]
  },
  {
   "cell_type": "markdown",
   "metadata": {},
   "source": [
    "**G-SHAP values.** We compute the G-SHAP values, where $g$ is a loss function. In our case, the loss function is $R^2$.\n",
    "\n",
    "\\begin{equation}\n",
    "    g(f,X,\\Omega) = L(f,X,y)\n",
    "    = 1-\\frac\n",
    "    {\\sum_t (\\%\\Delta\\text{GDP}_t - f(x_{t-1}))^2}\n",
    "    {\\sum_t (\\%\\Delta\\text{GDP}_t - \\overline{\\%\\Delta\\text{GDP}})^2}\n",
    "\\end{equation}\n",
    "\n",
    "Where additional arguments to $g$ are the labels for $X$; $\\Omega=\\{y\\}$."
   ]
  },
  {
   "cell_type": "code",
   "execution_count": 4,
   "metadata": {
    "ExecuteTime": {
     "end_time": "2020-06-04T14:19:36.907210Z",
     "start_time": "2020-06-04T14:19:17.370223Z"
    }
   },
   "outputs": [],
   "source": [
    "# performance on training data\n",
    "g = lambda y_pred: r2_score(y_train, y_pred)\n",
    "explainer_train = gshap.KernelExplainer(reg.predict, X_train, g)\n",
    "gshap_values_train = explainer_train.gshap_values(X_train, nsamples=1000)\n",
    "\n",
    "# performance on test data\n",
    "g = lambda y_pred: r2_score(y_test, y_pred)\n",
    "explainer_test = gshap.KernelExplainer(reg.predict, X_train, g)\n",
    "gshap_values_test = explainer_test.gshap_values(X_test, nsamples=1000)"
   ]
  },
  {
   "cell_type": "markdown",
   "metadata": {},
   "source": [
    "**Interpretation.** For interpretation, we make two comparisons. First, we compare the training data $X_\\text{train}=\\{x_{t-1} : t=1975...2007\\}$ to a background dataset $Z$ (the shuffled training data) in terms of $g$ using training labels; $y_\\text{train}=\\{\\%\\Delta\\text{GDP}_t : t=1975...2007\\}$. Second, we compare the test data $X_\\text{test}=\\{x_{t-1} : t=2008,2009\\}$ to $Z$ in terms of $g$ using test labels; $y_\\text{test}=\\{\\%\\Delta\\text{GDP}_t : t=2008,2009\\}$. By making these two comparisons, we can see the extent to which feature $j$ contributed to model performance for the training data, and the extent to which feature $j$ contributed to model performance for the test data. If feature $j$'s contribution diminished between the training and test data, we can conclude it was responsible for our model's poor test performance. A negative G-SHAP value indicates that feature $j$ degraded performance.\n",
    "\n",
    "In the first comparison, our model's $R^2$ is .40 for the training data and -.28 for the background data. Each G-SHAP value $\\phi_g^j$ is the amount of this difference (.68) explained by feature $j$. We interpret the G-SHAP values for the test data comparison comparison similarly.\n",
    "\n",
    "For model failure explanations more broadly, our model has a loss $L(f,X,y)$ for our test sample and $L(f,Z,y)$ for the background data. Each G-SHAP value $\\phi_g^j$ is the amount of this difference $L(f,X,y)-L(f,Z,y)$ explained by feature $j$."
   ]
  },
  {
   "cell_type": "code",
   "execution_count": 5,
   "metadata": {
    "ExecuteTime": {
     "end_time": "2020-06-04T14:19:37.842940Z",
     "start_time": "2020-06-04T14:19:36.908849Z"
    }
   },
   "outputs": [
    {
     "name": "stdout",
     "output_type": "stream",
     "text": [
      "R-squared for the training data: 0.3958\n",
      "R-squared for the shuffled background data: -0.2847\n",
      "Sum of G-SHAP values: 0.6736\n"
     ]
    }
   ],
   "source": [
    "g_comparison, g_background = explainer_train.compare(X_train, bootstrap_samples=1000)\n",
    "print('R-squared for the training data: %.4f' % g_comparison)\n",
    "print('R-squared for the shuffled background data: %.4f' % g_background)\n",
    "print('Sum of G-SHAP values: %.4f' % gshap_values_train.sum())"
   ]
  },
  {
   "cell_type": "code",
   "execution_count": 6,
   "metadata": {
    "ExecuteTime": {
     "end_time": "2020-06-04T14:19:38.694734Z",
     "start_time": "2020-06-04T14:19:37.846265Z"
    }
   },
   "outputs": [
    {
     "name": "stdout",
     "output_type": "stream",
     "text": [
      "R-squared for the test data: -3.1278\n",
      "R-squared for the shuffled background data: -3.9406\n",
      "Sum of the G-SHAP values: 0.8859\n"
     ]
    }
   ],
   "source": [
    "g_comparison, g_background = explainer_test.compare(X_test, bootstrap_samples=1000)\n",
    "print('R-squared for the test data: %.4f' % g_comparison)\n",
    "print('R-squared for the shuffled background data: %.4f' % g_background)\n",
    "print('Sum of the G-SHAP values: %.4f' % gshap_values_test.sum())"
   ]
  },
  {
   "cell_type": "markdown",
   "metadata": {},
   "source": [
    "**Results.** This plot tells us which features contribute most to model performance. Because the performance of the background dataset differs in terms of $g$ when using the training versus test labels, we normalize the G-SHAP values to sum to 1 in order to compare performance. We see that real estate loans as a percent of GDP in 2007-2008 decreased the $R^2$ of our model's 2008-2009 GDP growth forecast by 34\\%."
   ]
  },
  {
   "cell_type": "code",
   "execution_count": 7,
   "metadata": {
    "ExecuteTime": {
     "end_time": "2020-06-04T14:19:39.120876Z",
     "start_time": "2020-06-04T14:19:38.697371Z"
    }
   },
   "outputs": [
    {
     "data": {
      "image/png": "[encoded data removed]",
      "text/plain": [
       "<Figure size 420x360 with 1 Axes>"
      ]
     },
     "metadata": {
      "needs_background": "light"
     },
     "output_type": "display_data"
    }
   ],
   "source": [
    "df = pd.DataFrame({\n",
    "    'Features': X.columns,\n",
    "    'Train': gshap_values_train/gshap_values_train.sum(),\n",
    "    'Test': gshap_values_test/gshap_values_test.sum(),\n",
    "})\n",
    "df = df.sort_values('Test')\n",
    "df = pd.melt(\n",
    "    df, \n",
    "    id_vars='Features',\n",
    "    value_vars=['Test', 'Train'],\n",
    "    var_name='Dataset',\n",
    "    value_name='G-SHAP',\n",
    ")\n",
    "sns.catplot(\n",
    "    x='G-SHAP',\n",
    "    y='Features',\n",
    "    hue='Dataset',\n",
    "    data=df,\n",
    "    kind='bar',\n",
    "    orient='h'\n",
    ")\n",
    "if PLOT_DIR is not None:\n",
    "    plt.savefig(os.path.join(PLOT_DIR, 'gdp_gshap.png'))\n",
    "plt.show()"
   ]
  },
  {
   "cell_type": "code",
   "execution_count": null,
   "metadata": {},
   "outputs": [],
   "source": []
  }
 ],
 "metadata": {
  "kernelspec": {
   "display_name": "Python 3",
   "language": "python",
   "name": "python3"
  },
  "language_info": {
   "codemirror_mode": {
    "name": "ipython",
    "version": 3
   },
   "file_extension": ".py",
   "mimetype": "text/x-python",
   "name": "python",
   "nbconvert_exporter": "python",
   "pygments_lexer": "ipython3",
   "version": "3.6.8"
  },
  "toc": {
   "base_numbering": 1,
   "nav_menu": {},
   "number_sections": true,
   "sideBar": true,
   "skip_h1_title": false,
   "title_cell": "Table of Contents",
   "title_sidebar": "Contents",
   "toc_cell": false,
   "toc_position": {},
   "toc_section_display": true,
   "toc_window_display": false
  },
  "varInspector": {
   "cols": {
    "lenName": 16,
    "lenType": 16,
    "lenVar": 40
   },
   "kernels_config": {
    "python": {
     "delete_cmd_postfix": "",
     "delete_cmd_prefix": "del ",
     "library": "var_list.py",
     "varRefreshCmd": "print(var_dic_list())"
    },
    "r": {
     "delete_cmd_postfix": ") ",
     "delete_cmd_prefix": "rm(",
     "library": "var_list.r",
     "varRefreshCmd": "cat(var_dic_list()) "
    }
   },
   "types_to_exclude": [
    "module",
    "function",
    "builtin_function_or_method",
    "instance",
    "_Feature"
   ],
   "window_display": false
  }
 },
 "nbformat": 4,
 "nbformat_minor": 4
}
