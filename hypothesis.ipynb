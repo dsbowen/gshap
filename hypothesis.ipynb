{
 "cells": [
  {
   "cell_type": "markdown",
   "metadata": {},
   "source": [
    "# Explaining Hypothesis Tests\n",
    "\n",
    "This notebook shows how to explain hypothesis tests with general SHAP values.\n",
    "\n",
    "In this example, we draw an artificial sample of people with diabetes. We then ask why our model believes the diabetic risk level of the population from which our sample was drawn is likely to exceed some threshold $T$.\n",
    "\n",
    "We find that the variables which most convince our model that the selected population's average risk level exceeds the threshold are body mass index (BMI) and a medical test (S5).\n",
    "\n",
    "This question is a specific example of a general question. Suppose we are interested in a hypothesis $h$ about a population statistic $\\theta$. Given a sample of observations $X$, we can ask why our model believes $h$ is more likely to be true of the population from which our sample was drawn than of the population from which the background data were drawn.\n",
    "\n",
    "Here, the population statistic $\\theta$ is the mean risk level, and the hypothesis $h$ is that $\\theta$ exceeds the threshold $T$."
   ]
  },
  {
   "cell_type": "code",
   "execution_count": 1,
   "metadata": {},
   "outputs": [],
   "source": [
    "import gshap\n",
    "from gshap.hypothesis import HypothesisTest\n",
    "\n",
    "import numpy as np\n",
    "import pandas as pd\n",
    "import matplotlib.pyplot as plt\n",
    "import seaborn as sns\n",
    "from sklearn.datasets import load_diabetes\n",
    "from sklearn.model_selection import train_test_split\n",
    "from sklearn.linear_model import Lasso\n",
    "\n",
    "import random\n",
    "\n",
    "np.random.seed(0)\n",
    "random.seed(0)\n",
    "\n",
    "THRESHOLD = 155"
   ]
  },
  {
   "cell_type": "markdown",
   "metadata": {},
   "source": [
    "We begin by loading the diabetes dataset and training our regressor."
   ]
  },
  {
   "cell_type": "code",
   "execution_count": 2,
   "metadata": {},
   "outputs": [
    {
     "name": "stdout",
     "output_type": "stream",
     "text": [
      "Test score: 0.3550\n"
     ]
    }
   ],
   "source": [
    "diabetes = load_diabetes()\n",
    "X, y = diabetes.data, diabetes.target\n",
    "X_train, X_test, y_train, y_test = train_test_split(X, y)\n",
    "reg = Lasso(alpha=.1)\n",
    "reg.fit(X_train, y_train)\n",
    "print('Test score: %.4f' % reg.score(X_test, y_test))"
   ]
  },
  {
   "cell_type": "markdown",
   "metadata": {},
   "source": [
    "Next, we plot the the training samples along BMI and S5. Samples in red have a risk level above the threshold, increasing the probability of confirming our hypothesis. Samples in blue have a risk level below the threshold, increasing the probability of disconfirming our hypothesis."
   ]
  },
  {
   "cell_type": "code",
   "execution_count": 3,
   "metadata": {},
   "outputs": [
    {
     "data": {
      "image/png": "[encoded data removed]",
      "text/plain": [
       "<Figure size 432x288 with 1 Axes>"
      ]
     },
     "metadata": {
      "needs_background": "light"
     },
     "output_type": "display_data"
    }
   ],
   "source": [
    "h_conf = y_train > THRESHOLD\n",
    "X_train_conf = X_train[h_conf]\n",
    "X_train_dconf = X_train[np.logical_not(h_conf)]\n",
    "\n",
    "plt.scatter(X_train_conf[:,2], X_train_conf[:,8], c='red', label='Confirmed')\n",
    "plt.scatter(X_train_dconf[:,2], X_train_dconf[:,8], label='Disconfirmed')\n",
    "plt.xlabel(diabetes.feature_names[2])\n",
    "plt.ylabel(diabetes.feature_names[8])\n",
    "plt.legend()\n",
    "plt.show()"
   ]
  },
  {
   "cell_type": "markdown",
   "metadata": {},
   "source": [
    "Compute the G-SHAP values, where $g$ is a `HypothesisTest`. A `HypothesisTest` uses bootstrapping to approximate the probability that the population statistic satisfies our hypothesis for a sample output.\n",
    "\n",
    "Here, the population statistic is the mean risk level, and the hypothesis is confirmed when the mean risk level exceeds the threshold."
   ]
  },
  {
   "cell_type": "code",
   "execution_count": 4,
   "metadata": {},
   "outputs": [],
   "source": [
    "test = lambda y_pred: y_pred.mean() > THRESHOLD\n",
    "g = HypothesisTest(test, bootstrap_samples=100)\n",
    "explainer = gshap.KernelExplainer(reg.predict, X_train, g)\n",
    "x = X_test[y_test > 70] # artifically select a sample which with higher-than-average risk\n",
    "gshap_values = explainer.gshap_values(x, nsamples=100)"
   ]
  },
  {
   "cell_type": "markdown",
   "metadata": {},
   "source": [
    "For interpretation, we compare our sample to the background dataset in terms of $g$. We see that the hypothesis is more likely to be true of the population from which our sample was drawn than of the population from which our background data were drawn.\n",
    "\n",
    "The sum of the G-SHAP values should approximately equal the difference between our sample and the background data (allowing for sampling error)."
   ]
  },
  {
   "cell_type": "code",
   "execution_count": 5,
   "metadata": {},
   "outputs": [
    {
     "name": "stdout",
     "output_type": "stream",
     "text": [
      "Probability that the statistic satisfies our hypothesis in our sample: 0.9300\n",
      "Probability that the statistic satisifes our hypothesis in the background data: 0.3474\n",
      "Sum of G-SHAP values: 0.5467\n"
     ]
    }
   ],
   "source": [
    "g_comparison, g_background = explainer.compare(x, bootstrap_samples=10000)\n",
    "print('Probability that the statistic satisfies our hypothesis in our sample: %.4f' % g_comparison)\n",
    "print('Probability that the statistic satisifes our hypothesis in the background data: %.4f' % g_background)\n",
    "print('Sum of G-SHAP values: %.4f' % gshap_values.sum())"
   ]
  },
  {
   "cell_type": "markdown",
   "metadata": {},
   "source": [
    "Finally, we plot our results. This plot tells us which features most convince our model the average diabetic risk level in the population from which our sample was drawn exceeds the threshold.\n",
    "\n",
    "More precisely, our model believes that the mean risk level in the populatioon from which our sample $x$ was drawn exceeds the threshold with probability $p_s$, and that the mean risk level of the population from which our background data were drawn exceeds the threshold with probability $p_b$. Each G-SHAP value $\\phi_j$ is the number of percentage points of this difference $p_s-p_b$ explained by feature $j$."
   ]
  },
  {
   "cell_type": "code",
   "execution_count": 6,
   "metadata": {},
   "outputs": [
    {
     "data": {
      "image/png": "[encoded data removed]",
      "text/plain": [
       "<Figure size 432x288 with 1 Axes>"
      ]
     },
     "metadata": {
      "needs_background": "light"
     },
     "output_type": "display_data"
    }
   ],
   "source": [
    "df = pd.DataFrame({\n",
    "    'Features': list(diabetes.feature_names),\n",
    "    'G-SHAP': list(gshap_values)\n",
    "}).sort_values('G-SHAP', ascending=False)\n",
    "sns.barplot(x='G-SHAP', y='Features', data=df)\n",
    "plt.show()"
   ]
  },
  {
   "cell_type": "code",
   "execution_count": null,
   "metadata": {},
   "outputs": [],
   "source": []
  }
 ],
 "metadata": {
  "kernelspec": {
   "display_name": "Python 3",
   "language": "python",
   "name": "python3"
  },
  "language_info": {
   "codemirror_mode": {
    "name": "ipython",
    "version": 3
   },
   "file_extension": ".py",
   "mimetype": "text/x-python",
   "name": "python",
   "nbconvert_exporter": "python",
   "pygments_lexer": "ipython3",
   "version": "3.6.8"
  },
  "toc": {
   "base_numbering": 1,
   "nav_menu": {},
   "number_sections": true,
   "sideBar": true,
   "skip_h1_title": false,
   "title_cell": "Table of Contents",
   "title_sidebar": "Contents",
   "toc_cell": false,
   "toc_position": {},
   "toc_section_display": true,
   "toc_window_display": false
  },
  "varInspector": {
   "cols": {
    "lenName": 16,
    "lenType": 16,
    "lenVar": 40
   },
   "kernels_config": {
    "python": {
     "delete_cmd_postfix": "",
     "delete_cmd_prefix": "del ",
     "library": "var_list.py",
     "varRefreshCmd": "print(var_dic_list())"
    },
    "r": {
     "delete_cmd_postfix": ") ",
     "delete_cmd_prefix": "rm(",
     "library": "var_list.r",
     "varRefreshCmd": "cat(var_dic_list()) "
    }
   },
   "types_to_exclude": [
    "module",
    "function",
    "builtin_function_or_method",
    "instance",
    "_Feature"
   ],
   "window_display": false
  }
 },
 "nbformat": 4,
 "nbformat_minor": 4
}
