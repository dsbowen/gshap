{
 "cells": [
  {
   "cell_type": "markdown",
   "metadata": {},
   "source": [
    "Model selection for GDP model failure analysis. In this notebook, we tune hyperparameters to predict GDP growth."
   ]
  },
  {
   "cell_type": "code",
   "execution_count": 1,
   "metadata": {},
   "outputs": [],
   "source": [
    "import warnings\n",
    "warnings.simplefilter('ignore')\n",
    "\n",
    "import numpy as np\n",
    "import pandas as pd\n",
    "import seaborn as sns\n",
    "from sklearn.decomposition import PCA\n",
    "from sklearn.model_selection import GridSearchCV, TimeSeriesSplit\n",
    "from sklearn.neighbors import KernelDensity\n",
    "\n",
    "from datetime import datetime"
   ]
  },
  {
   "cell_type": "code",
   "execution_count": 2,
   "metadata": {},
   "outputs": [],
   "source": [
    "def gen_lags(X, n_lags):\n",
    "    X_lagged = None\n",
    "    for i in range(1, n_lags+1):\n",
    "        l = X.shift(i).add_prefix('l%i.' % i)\n",
    "        if X_lagged is None:\n",
    "            X_lagged = l\n",
    "        else:\n",
    "            X_lagged = pd.concat((X_lagged, l), axis=1)\n",
    "    return X_lagged\n",
    "\n",
    "gdp = pd.read_csv('GDP-growth.csv')\n",
    "X, y = gdp.drop('GDP_g', axis=1), gdp['GDP_g']\n",
    "X, date = X.drop('date', axis=1), pd.to_datetime(X['date'])\n",
    "X_lagged = gen_lags(X, 5)"
   ]
  },
  {
   "cell_type": "code",
   "execution_count": 3,
   "metadata": {},
   "outputs": [],
   "source": [
    "train_idx = date < datetime(2007, 1, 1)\n",
    "test_idx = ~train_idx & (date < datetime(2011, 1, 1))\n",
    "X_train, X_test, y_train, y_test = (\n",
    "    X_lagged[train_idx], X_lagged[test_idx],\n",
    "    y[train_idx], y[test_idx]\n",
    ")"
   ]
  },
  {
   "cell_type": "code",
   "execution_count": 4,
   "metadata": {},
   "outputs": [],
   "source": [
    "from sklearn.neighbors import KNeighborsRegressor as KNeighborsRegressorMixin\n",
    "\n",
    "class KNeighborsRegressor(KNeighborsRegressorMixin):\n",
    "    def __init__(self, n_neighbors=5, n_components=1, n_lags=1):\n",
    "        super().__init__(n_neighbors)\n",
    "        self.n_components = n_components\n",
    "        self.n_lags = n_lags\n",
    "        \n",
    "    def fit(self, X, y):\n",
    "        X, y = self.select_lags(X, y)\n",
    "        self.pca = PCA(n_components=self.n_components)\n",
    "        X = self.pca.fit_transform(X)\n",
    "        return super().fit(X, y)\n",
    "    \n",
    "    def predict(self, X):\n",
    "        X = self.select_lags(X)\n",
    "        X = self.pca.transform(X)\n",
    "        return super().predict(X)\n",
    "    \n",
    "    def select_lags(self, X, y=None):\n",
    "        X = X[[\n",
    "            col \n",
    "            for i in range(1,self.n_lags+1) \n",
    "            for col in X.columns if col.startswith('l%i.' % i)\n",
    "        ]]\n",
    "        X = X.dropna()\n",
    "        if y is None:\n",
    "            return X\n",
    "        return X, y.iloc[len(y)-len(X):]"
   ]
  },
  {
   "cell_type": "code",
   "execution_count": 5,
   "metadata": {},
   "outputs": [
    {
     "name": "stdout",
     "output_type": "stream",
     "text": [
      "0.2608948591820992\n",
      "{'n_components': 5, 'n_lags': 1, 'n_neighbors': 4}\n"
     ]
    }
   ],
   "source": [
    "params = {\n",
    "    'n_neighbors': list(range(2,8)),\n",
    "    'n_components': list(range(1,11)),\n",
    "    'n_lags': list(range(1,5)),\n",
    "}\n",
    "\n",
    "cv = TimeSeriesSplit(n_splits=2)\n",
    "grid = GridSearchCV(KNeighborsRegressor(), params, cv=cv)\n",
    "reg = grid.fit(X_train, y_train).best_estimator_\n",
    "print(grid.best_score_)\n",
    "print(grid.best_params_)"
   ]
  },
  {
   "cell_type": "code",
   "execution_count": 6,
   "metadata": {},
   "outputs": [
    {
     "data": {
      "text/plain": [
       "<matplotlib.axes._subplots.AxesSubplot at 0x7f4b38cd3ac8>"
      ]
     },
     "execution_count": 6,
     "metadata": {},
     "output_type": "execute_result"
    },
    {
     "data": {
      "image/png": "[encoded data removed]",
      "text/plain": [
       "<Figure size 432x288 with 1 Axes>"
      ]
     },
     "metadata": {
      "needs_background": "light"
     },
     "output_type": "display_data"
    }
   ],
   "source": [
    "sns.lineplot('date','RELoansPctGDP',data=gdp)"
   ]
  },
  {
   "cell_type": "code",
   "execution_count": null,
   "metadata": {},
   "outputs": [],
   "source": [
    "params = {\n",
    "    'bandwidth': np.logspace(-1,1,20),\n",
    "    'kernel': ('gaussian','tophat', 'epanechnikov', 'exponential','linear', 'cosine')\n",
    "}\n",
    "grid = GridSearchCV(KernelDensity(), params, cv=4)\n",
    "\n",
    "def tune_kde(y):\n",
    "    y = y.values.reshape(y.shape[0], 1)\n",
    "    print(grid.fit(y).best_params_)\n",
    "\n",
    "tune_kde(y_train[reg.n_lags:])\n",
    "tune_kde(y_test)"
   ]
  },
  {
   "cell_type": "code",
   "execution_count": null,
   "metadata": {},
   "outputs": [],
   "source": []
  }
 ],
 "metadata": {
  "kernelspec": {
   "display_name": "Python 3",
   "language": "python",
   "name": "python3"
  },
  "language_info": {
   "codemirror_mode": {
    "name": "ipython",
    "version": 3
   },
   "file_extension": ".py",
   "mimetype": "text/x-python",
   "name": "python",
   "nbconvert_exporter": "python",
   "pygments_lexer": "ipython3",
   "version": "3.6.8"
  },
  "toc": {
   "base_numbering": 1,
   "nav_menu": {},
   "number_sections": true,
   "sideBar": true,
   "skip_h1_title": false,
   "title_cell": "Table of Contents",
   "title_sidebar": "Contents",
   "toc_cell": false,
   "toc_position": {},
   "toc_section_display": true,
   "toc_window_display": false
  },
  "varInspector": {
   "cols": {
    "lenName": 16,
    "lenType": 16,
    "lenVar": 40
   },
   "kernels_config": {
    "python": {
     "delete_cmd_postfix": "",
     "delete_cmd_prefix": "del ",
     "library": "var_list.py",
     "varRefreshCmd": "print(var_dic_list())"
    },
    "r": {
     "delete_cmd_postfix": ") ",
     "delete_cmd_prefix": "rm(",
     "library": "var_list.r",
     "varRefreshCmd": "cat(var_dic_list()) "
    }
   },
   "types_to_exclude": [
    "module",
    "function",
    "builtin_function_or_method",
    "instance",
    "_Feature"
   ],
   "window_display": false
  }
 },
 "nbformat": 4,
 "nbformat_minor": 4
}
