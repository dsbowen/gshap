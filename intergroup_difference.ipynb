{
 "cells": [
  {
   "cell_type": "markdown",
   "metadata": {},
   "source": [
    "# Intergroup Difference Explanations\n",
    "\n",
    "This notebook shows how to produce intergroup difference explanations with general SHAP values.\n",
    "\n",
    "In this example, we ask why our model predicts higher rates of two-year recidivism for Black criminals than for criminals of other races. We find that prior convictions, age, and race are the most important variables.\n",
    "\n",
    "This question is a specific example of a general question. Suppose we have two groups of observations, 0 and 1, and a distance measure $d(\\hat{y_0},\\hat{y_1})$ of how different our model output is for each group. For a sample of observations $x$, we can ask why our model makes different predictions for different groups.\n",
    "\n",
    "Here, groups 0 and 1 are non-Black and Black criminals, the model output is a classification which indicates that a criminal will recidivate within two years, and the distance measure is the relative difference in recidivism rates."
   ]
  },
  {
   "cell_type": "code",
   "execution_count": 1,
   "metadata": {},
   "outputs": [],
   "source": [
    "import gshap\n",
    "from gshap.datasets import load_recidivism\n",
    "from gshap.intergroup import IntergroupDifference, relative_mean_distance\n",
    "\n",
    "import matplotlib.pyplot as plt\n",
    "import pandas as pd\n",
    "import seaborn as sns\n",
    "from sklearn.model_selection import train_test_split\n",
    "from sklearn.svm import SVC"
   ]
  },
  {
   "cell_type": "markdown",
   "metadata": {},
   "source": [
    "We begin by loading the recidivism dataset (courtesy of Propublica's COMPAS analysis) and training our classifier."
   ]
  },
  {
   "cell_type": "code",
   "execution_count": 2,
   "metadata": {},
   "outputs": [
    {
     "name": "stdout",
     "output_type": "stream",
     "text": [
      "Test score: 0.6460\n"
     ]
    }
   ],
   "source": [
    "recidivism = load_recidivism()\n",
    "X, y = recidivism.data, recidivism.target\n",
    "X_train, X_test, y_train, y_test = train_test_split(X, y, test_size=1000)\n",
    "clf = SVC()\n",
    "clf.fit(X_train, y_train)\n",
    "print('Test score: %.4f' % clf.score(X_test, y_test))"
   ]
  },
  {
   "cell_type": "markdown",
   "metadata": {},
   "source": [
    "Next, we compute summary statistics. We see that the predicted recidivism rate is higher for Black criminals than for criminals of other races."
   ]
  },
  {
   "cell_type": "code",
   "execution_count": 3,
   "metadata": {},
   "outputs": [
    {
     "name": "stdout",
     "output_type": "stream",
     "text": [
      "Predicted two-year recidivism rate for non-Blacks:  0.40\n",
      "Predicted two-year recidivism rate for Blacks:  0.62\n",
      "Relative difference:  0.54\n"
     ]
    },
    {
     "data": {
      "image/png": "[encoded data removed]",
      "text/plain": [
       "<Figure size 432x288 with 1 Axes>"
      ]
     },
     "metadata": {
      "needs_background": "light"
     },
     "output_type": "display_data"
    }
   ],
   "source": [
    "df = pd.concat((X_test, y_test), axis=1)\n",
    "df['y_pred'] = clf.predict(X_test)\n",
    "p_non_black, p_black = df.groupby('black')['y_pred'].mean()\n",
    "print('Predicted two-year recidivism rate for non-Blacks: % .2f' % p_non_black)\n",
    "print('Predicted two-year recidivism rate for Blacks: % .2f' % p_black)\n",
    "print('Relative difference: % .2f' % (p_black/p_non_black - 1))\n",
    "\n",
    "df['id'] = df.index\n",
    "df = df.melt(('id', 'black'), value_vars='y_pred')\n",
    "sns.barplot(y='value', x='black', hue='variable', data=df)\n",
    "plt.ylabel('predicted two-year recidivism')\n",
    "plt.show()"
   ]
  },
  {
   "cell_type": "markdown",
   "metadata": {},
   "source": [
    "Here, we plot the correlations between each variable in our dataset and race and (actual) two-year recidivism."
   ]
  },
  {
   "cell_type": "code",
   "execution_count": 4,
   "metadata": {},
   "outputs": [
    {
     "data": {
      "image/png": "[encoded data removed]",
      "text/plain": [
       "<Figure size 471x360 with 1 Axes>"
      ]
     },
     "metadata": {
      "needs_background": "light"
     },
     "output_type": "display_data"
    }
   ],
   "source": [
    "corr_df = recidivism.df.corr().reset_index()\n",
    "corr_df = corr_df.melt('index', value_vars=('black', 'two_year_recid'))\n",
    "sns.catplot(\n",
    "    x='value',\n",
    "    y='index',\n",
    "    hue='variable',\n",
    "    data=corr_df,\n",
    "    kind='bar',\n",
    "    orient='h'\n",
    ")\n",
    "plt.xlabel('correlation')\n",
    "plt.ylabel('')\n",
    "plt.show()"
   ]
  },
  {
   "cell_type": "markdown",
   "metadata": {},
   "source": [
    "Compute the G-SHAP values, where $g$ is `IntergroupDifference`. `IntergroupDifference` measures the distance $d$ between our model's predictions for outgroup and ingroup observations.\n",
    "\n",
    "Here, the outgroup and ingroup are non-Black and Black criminals. Our distance measure $d$ is the relative difference between group means; in this case, the relative difference in predicted recidivism rates."
   ]
  },
  {
   "cell_type": "code",
   "execution_count": 5,
   "metadata": {},
   "outputs": [],
   "source": [
    "g = IntergroupDifference(group=X_test['black'], distance=relative_mean_distance)\n",
    "explainer = gshap.KernelExplainer(clf.predict, X_train, g)\n",
    "gshap_values = explainer.gshap_values(X_test, nsamples=32)"
   ]
  },
  {
   "cell_type": "markdown",
   "metadata": {},
   "source": [
    "For interpretation, we compare our test data to the shuffled background data in terms of $g$.\n",
    "\n",
    "We see that there is a high relative mean difference in our test data. By contrast, there is 0 relative mean difference in the shuffled background data, as expected. Because each variable in the background data is shuffled, the model has no means of statistically discriminating between Black and non-Black criminals.\n",
    "\n",
    "The sum of the G-SHAP values should approximately equal the relative differnce in predicted recidivism rates between non-Black and Black criminals in the test data (allowing for sampling error)."
   ]
  },
  {
   "cell_type": "code",
   "execution_count": null,
   "metadata": {},
   "outputs": [],
   "source": [
    "g_comparison, g_background = explainer.compare(X_test, bootstrap_samples=1000)\n",
    "print('Relative mean difference for test data: %.4f' % g_comparison)\n",
    "print('Relative mean difference for (shuffled) background data: %.4f' % g_background)\n",
    "print('Sum of G-SHAP values: %.4f' % gshap_values.sum())"
   ]
  },
  {
   "cell_type": "markdown",
   "metadata": {},
   "source": [
    "Finally, we plot our results. This plot tells us which variables explain the relative difference in predicted recidivism rates between Black and non-Black criminals. \n",
    "\n",
    "More precisely, our model predicts that Black criminals are $p$ percent more likely to recidivate than criminals of other races. Each G-SHAP value $\\phi_j$ is the number of percentage points of $p$ explained by feature $j$."
   ]
  },
  {
   "cell_type": "code",
   "execution_count": null,
   "metadata": {},
   "outputs": [],
   "source": [
    "df = pd.DataFrame({'Variable': X.columns, 'G-SHAP': gshap_values})\n",
    "df = df.sort_values('G-SHAP', ascending=False).reset_index(drop=True)\n",
    "sns.barplot(y='Variable', x='G-SHAP', data=df)\n",
    "plt.show()"
   ]
  },
  {
   "cell_type": "code",
   "execution_count": null,
   "metadata": {},
   "outputs": [],
   "source": []
  }
 ],
 "metadata": {
  "kernelspec": {
   "display_name": "Python 3",
   "language": "python",
   "name": "python3"
  },
  "language_info": {
   "codemirror_mode": {
    "name": "ipython",
    "version": 3
   },
   "file_extension": ".py",
   "mimetype": "text/x-python",
   "name": "python",
   "nbconvert_exporter": "python",
   "pygments_lexer": "ipython3",
   "version": "3.6.8"
  }
 },
 "nbformat": 4,
 "nbformat_minor": 4
}
