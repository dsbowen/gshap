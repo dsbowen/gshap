{
 "cells": [
  {
   "cell_type": "markdown",
   "metadata": {},
   "source": [
    "# Intergroup Difference Explanations\n",
    "\n",
    "**Example.** In this example, we create a model to predict whether a criminal will recidivate within two years of release. We find that our model predicts higher recidivism rates for Black criminals than for White criminals, then use G-SHAP to identify which features are most responsible for this difference. We find that prior convictions, age, and race are the most important variables.\n",
    "\n",
    "**General formulation.** More generally, suppose we have two groups of observations, $X_0\\subseteq X$ and $X_1\\subseteq X$, and a measure $d$ of how different our model output is between groups. We can ask why our model makes different predictions for different groups. Here, groups $X_0$ and $X_1$ are White and Black criminals respectively, the model output is a classification which indicates that a criminal will recidivate within two years, and the difference measure is the relative difference in recidivism rates."
   ]
  },
  {
   "cell_type": "code",
   "execution_count": 1,
   "metadata": {
    "ExecuteTime": {
     "end_time": "2020-08-18T00:06:43.003590Z",
     "start_time": "2020-08-18T00:06:41.721709Z"
    }
   },
   "outputs": [],
   "source": [
    "import gshap\n",
    "from gshap.datasets import load_recidivism\n",
    "from gshap.intergroup import IntergroupDifference\n",
    "\n",
    "import matplotlib.pyplot as plt\n",
    "import numpy as np\n",
    "import pandas as pd\n",
    "import seaborn as sns\n",
    "from sklearn.model_selection import train_test_split\n",
    "from sklearn.svm import SVC\n",
    "\n",
    "import random\n",
    "import os\n",
    "\n",
    "np.random.seed(0)\n",
    "random.seed(0)\n",
    "\n",
    "# directory for saving plots\n",
    "# set to `None` to avoid saving plots\n",
    "PLOTS_DIR = 'plots'"
   ]
  },
  {
   "cell_type": "markdown",
   "metadata": {},
   "source": [
    "**Model.** We train Scikit-learn's support vector classifier with default settings on the Correctional Offender Management Profiling for Alternative Sanctions dataset, selecting only Black and White criminals ($n_\\text{Black}=3565,n_\\text{White}=1904$), using a 75\\%-25\\% train-test split. The purpose of this dataset is to predict whether a criminal will recidivate within two years of release based on demographic information and criminal history. Our classifier achieves 68\\% test accuracy. The predicted recidivism rate is 63\\% higher for Black criminals (65\\%) than for White criminals (40\\%)."
   ]
  },
  {
   "cell_type": "code",
   "execution_count": 2,
   "metadata": {
    "ExecuteTime": {
     "end_time": "2020-08-18T00:06:44.609620Z",
     "start_time": "2020-08-18T00:06:43.006124Z"
    }
   },
   "outputs": [
    {
     "name": "stdout",
     "output_type": "stream",
     "text": [
      "Test score: 0.6780\n",
      "Predicted two-year recidivism rate for Whites:  0.40\n",
      "Predicted two-year recidivism rate for Blacks:  0.65\n",
      "Relative difference:  0.63\n"
     ]
    },
    {
     "data": {
      "image/png": "[encoded data removed]",
      "text/plain": [
       "<Figure size 432x288 with 1 Axes>"
      ]
     },
     "metadata": {
      "needs_background": "light"
     },
     "output_type": "display_data"
    }
   ],
   "source": [
    "# model training and evaluation\n",
    "recid = load_recidivism()\n",
    "X, y = recid.data, recid.target\n",
    "X_train, X_test, y_train, y_test = train_test_split(recid.data, recid.target, test_size=1000)\n",
    "clf = SVC()\n",
    "clf.fit(X_train, y_train)\n",
    "print('Test score: %.4f' % clf.score(X_test, y_test))\n",
    "\n",
    "# racial difference\n",
    "df = pd.concat((X_test, y_test), axis=1)\n",
    "df['y_pred'] = clf.predict(X_test)\n",
    "p_non_black, p_black = df.groupby('black')['y_pred'].mean()\n",
    "print('Predicted two-year recidivism rate for Whites: % .2f' % p_non_black)\n",
    "print('Predicted two-year recidivism rate for Blacks: % .2f' % p_black)\n",
    "print('Relative difference: % .2f' % (p_black/p_non_black - 1))\n",
    "\n",
    "df['id'] = df.index\n",
    "df = df.melt(('id', 'black'), value_vars='y_pred')\n",
    "sns.barplot(y='value', x='black', hue='variable', data=df)\n",
    "plt.ylabel('predicted two-year recidivism')\n",
    "if PLOTS_DIR is not None:\n",
    "    plt.savefig(os.path.join(PLOTS_DIR, 'recidivism_differnce.png'))\n",
    "plt.show()"
   ]
  },
  {
   "cell_type": "markdown",
   "metadata": {},
   "source": [
    "We plot the correlations of all variables in our dataset with race (Black) and two-year recidivism. Visually, it is unclear which variables lead our model to believe that Black criminals are at higher risk for recidivism."
   ]
  },
  {
   "cell_type": "code",
   "execution_count": 3,
   "metadata": {
    "ExecuteTime": {
     "end_time": "2020-08-18T00:06:45.191982Z",
     "start_time": "2020-08-18T00:06:44.613471Z"
    }
   },
   "outputs": [
    {
     "data": {
      "image/png": "[encoded data removed]",
      "text/plain": [
       "<Figure size 471x360 with 1 Axes>"
      ]
     },
     "metadata": {
      "needs_background": "light"
     },
     "output_type": "display_data"
    }
   ],
   "source": [
    "corr_df = recid.df.corr().sort_values('black', ascending=False).reset_index()\n",
    "corr_df = corr_df.melt('index', value_vars=('black', 'two_year_recid'))\n",
    "sns.catplot(\n",
    "    x='value',\n",
    "    y='index',\n",
    "    hue='variable',\n",
    "    data=corr_df,\n",
    "    kind='bar',\n",
    "    orient='h'\n",
    ")\n",
    "plt.xlabel('correlation')\n",
    "plt.ylabel('')\n",
    "if PLOTS_DIR is not None:\n",
    "    plt.savefig(os.path.join(PLOTS_DIR, 'recidivism_corr.png'), bbox_inches='tight')\n",
    "plt.show()"
   ]
  },
  {
   "cell_type": "markdown",
   "metadata": {},
   "source": [
    "**G-SHAP values.** We compute the G-SHAP values, where $g$ measures the difference in model outputs between groups. In this case, $d$ is the relative difference between group means. Intuitively, this measures the relative difference in predicted recidivism rates between Black and White criminals. In the binary case, relative mean difference is known as *disparate impacts* in the algorithm fairness literature.\n",
    "\n",
    "\\begin{equation}\n",
    "g(f,X,\\Omega) \n",
    "= d(E_{x\\in X_0}[f(x)],E_{x\\in X_1}[f(x)])\n",
    "= \\frac{n_\\text{Black}^{-1}\\sum_{x_i\\in X_\\text{Black}}\\mathbf{1}(f(x_i)=\\text{Recidivate})}\n",
    "{n_\\text{White}^{-1}\\sum_{x_i\\in X_\\text{White}}\\mathbf{1}(f(x_i)=\\text{Recidivate})}\n",
    "-1\n",
    "\\end{equation}\n",
    "\n",
    "Where additional arguments to $g$ indicate group membership; $\\Omega=\\{X_0,X_1\\}$.\n",
    "\n",
    "Although we express the intergroup difference measure as a function of group means, our method easily extends to intergroup difference measures more generally; for example, a difference between group medians or a Wasserstein distance between sample distributions."
   ]
  },
  {
   "cell_type": "code",
   "execution_count": 4,
   "metadata": {
    "ExecuteTime": {
     "end_time": "2020-08-18T00:07:48.673602Z",
     "start_time": "2020-08-18T00:06:45.194500Z"
    }
   },
   "outputs": [],
   "source": [
    "g = IntergroupDifference(group=X_test['black'], distance='relative_mean_distance')\n",
    "explainer = gshap.KernelExplainer(clf.predict, X_train, g)\n",
    "gshap_values = explainer.gshap_values(X_test, nsamples=32)"
   ]
  },
  {
   "cell_type": "markdown",
   "metadata": {},
   "source": [
    "**Interpretation.** For interpretation, we compare our test data $X$ to a background dataset $Z$ (the shuffled training data) in terms of $g$. Consistent with our previous result, the relative difference in predicted recidivism rates is 63\\%. The relative difference for our shuffled background data is 0\\% (because the background data are shuffled, the model has no way to statistically discriminate between groups). Each G-SHAP value $\\phi_g^j$ is the number of percentage points of this difference (63 percentage points) explained by feature $j$.\n",
    "\n",
    "For intergroup difference explanations more broadly, our model predicts the distance between groups is $d(E_{x\\in X_0}[f(x)],E_{x\\in X_1}[f(x)])$ for our sample, and 0 for the shuffled background data. Each G-SHAP value $\\phi_g^j$ is the amount of this difference explained by feature $j$."
   ]
  },
  {
   "cell_type": "code",
   "execution_count": 5,
   "metadata": {
    "ExecuteTime": {
     "end_time": "2020-08-18T00:09:26.610894Z",
     "start_time": "2020-08-18T00:07:48.676989Z"
    }
   },
   "outputs": [
    {
     "name": "stdout",
     "output_type": "stream",
     "text": [
      "Relative mean difference for test data: 0.6339\n",
      "Relative mean difference for (shuffled) background data: 0.0007\n",
      "Sum of G-SHAP values: 0.6541\n"
     ]
    }
   ],
   "source": [
    "g_comparison, g_background = explainer.compare(X_test, bootstrap_samples=1000)\n",
    "print('Relative mean difference for test data: %.4f' % g_comparison)\n",
    "print('Relative mean difference for (shuffled) background data: %.4f' % g_background)\n",
    "print('Sum of G-SHAP values: %.4f' % gshap_values.sum())"
   ]
  },
  {
   "cell_type": "markdown",
   "metadata": {},
   "source": [
    "**Results.** This plot tells us which features explain the relative difference in predicted recidivism rates between Black and White criminals. We see that the most important features are number of prior convictions, age, and race."
   ]
  },
  {
   "cell_type": "code",
   "execution_count": 6,
   "metadata": {
    "ExecuteTime": {
     "end_time": "2020-08-18T00:09:26.929020Z",
     "start_time": "2020-08-18T00:09:26.612909Z"
    }
   },
   "outputs": [
    {
     "data": {
      "image/png": "[encoded data removed]",
      "text/plain": [
       "<Figure size 432x288 with 1 Axes>"
      ]
     },
     "metadata": {
      "needs_background": "light"
     },
     "output_type": "display_data"
    }
   ],
   "source": [
    "df = pd.DataFrame({'Features': X.columns, 'G-SHAP': gshap_values})\n",
    "df = df.sort_values('G-SHAP', ascending=False)\n",
    "sns.barplot(y='Features', x='G-SHAP', data=df)\n",
    "if PLOTS_DIR is not None:\n",
    "    plt.savefig(os.path.join(PLOTS_DIR, 'recidivism_gshap.png'), bbox_inches='tight')\n",
    "plt.show()"
   ]
  },
  {
   "cell_type": "code",
   "execution_count": 7,
   "metadata": {
    "ExecuteTime": {
     "end_time": "2020-08-18T00:09:26.941998Z",
     "start_time": "2020-08-18T00:09:26.931178Z"
    }
   },
   "outputs": [
    {
     "data": {
      "text/html": [
       "<div>\n",
       "<style scoped>\n",
       "    .dataframe tbody tr th:only-of-type {\n",
       "        vertical-align: middle;\n",
       "    }\n",
       "\n",
       "    .dataframe tbody tr th {\n",
       "        vertical-align: top;\n",
       "    }\n",
       "\n",
       "    .dataframe thead th {\n",
       "        text-align: right;\n",
       "    }\n",
       "</style>\n",
       "<table border=\"1\" class=\"dataframe\">\n",
       "  <thead>\n",
       "    <tr style=\"text-align: right;\">\n",
       "      <th></th>\n",
       "      <th>Features</th>\n",
       "      <th>G-SHAP</th>\n",
       "    </tr>\n",
       "  </thead>\n",
       "  <tbody>\n",
       "    <tr>\n",
       "      <th>5</th>\n",
       "      <td>priors_count</td>\n",
       "      <td>0.354922</td>\n",
       "    </tr>\n",
       "    <tr>\n",
       "      <th>1</th>\n",
       "      <td>age</td>\n",
       "      <td>0.251491</td>\n",
       "    </tr>\n",
       "    <tr>\n",
       "      <th>7</th>\n",
       "      <td>black</td>\n",
       "      <td>0.034307</td>\n",
       "    </tr>\n",
       "    <tr>\n",
       "      <th>9</th>\n",
       "      <td>high_supervision</td>\n",
       "      <td>0.009620</td>\n",
       "    </tr>\n",
       "    <tr>\n",
       "      <th>0</th>\n",
       "      <td>male</td>\n",
       "      <td>0.004049</td>\n",
       "    </tr>\n",
       "    <tr>\n",
       "      <th>6</th>\n",
       "      <td>felony</td>\n",
       "      <td>0.002129</td>\n",
       "    </tr>\n",
       "    <tr>\n",
       "      <th>4</th>\n",
       "      <td>juv_other_count</td>\n",
       "      <td>0.000502</td>\n",
       "    </tr>\n",
       "    <tr>\n",
       "      <th>2</th>\n",
       "      <td>juv_fel_count</td>\n",
       "      <td>-0.000277</td>\n",
       "    </tr>\n",
       "    <tr>\n",
       "      <th>8</th>\n",
       "      <td>married</td>\n",
       "      <td>-0.001286</td>\n",
       "    </tr>\n",
       "    <tr>\n",
       "      <th>3</th>\n",
       "      <td>juv_misd_count</td>\n",
       "      <td>-0.001338</td>\n",
       "    </tr>\n",
       "  </tbody>\n",
       "</table>\n",
       "</div>"
      ],
      "text/plain": [
       "           Features    G-SHAP\n",
       "5      priors_count  0.354922\n",
       "1               age  0.251491\n",
       "7             black  0.034307\n",
       "9  high_supervision  0.009620\n",
       "0              male  0.004049\n",
       "6            felony  0.002129\n",
       "4   juv_other_count  0.000502\n",
       "2     juv_fel_count -0.000277\n",
       "8           married -0.001286\n",
       "3    juv_misd_count -0.001338"
      ]
     },
     "execution_count": 7,
     "metadata": {},
     "output_type": "execute_result"
    }
   ],
   "source": [
    "df"
   ]
  }
 ],
 "metadata": {
  "kernelspec": {
   "display_name": "Python 3",
   "language": "python",
   "name": "python3"
  },
  "language_info": {
   "codemirror_mode": {
    "name": "ipython",
    "version": 3
   },
   "file_extension": ".py",
   "mimetype": "text/x-python",
   "name": "python",
   "nbconvert_exporter": "python",
   "pygments_lexer": "ipython3",
   "version": "3.6.8"
  },
  "toc": {
   "base_numbering": 1,
   "nav_menu": {},
   "number_sections": true,
   "sideBar": true,
   "skip_h1_title": false,
   "title_cell": "Table of Contents",
   "title_sidebar": "Contents",
   "toc_cell": false,
   "toc_position": {},
   "toc_section_display": true,
   "toc_window_display": false
  },
  "varInspector": {
   "cols": {
    "lenName": 16,
    "lenType": 16,
    "lenVar": 40
   },
   "kernels_config": {
    "python": {
     "delete_cmd_postfix": "",
     "delete_cmd_prefix": "del ",
     "library": "var_list.py",
     "varRefreshCmd": "print(var_dic_list())"
    },
    "r": {
     "delete_cmd_postfix": ") ",
     "delete_cmd_prefix": "rm(",
     "library": "var_list.r",
     "varRefreshCmd": "cat(var_dic_list()) "
    }
   },
   "types_to_exclude": [
    "module",
    "function",
    "builtin_function_or_method",
    "instance",
    "_Feature"
   ],
   "window_display": false
  }
 },
 "nbformat": 4,
 "nbformat_minor": 4
}
