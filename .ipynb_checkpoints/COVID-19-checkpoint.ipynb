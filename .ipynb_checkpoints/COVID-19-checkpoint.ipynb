{
 "cells": [
  {
   "cell_type": "markdown",
   "metadata": {},
   "source": [
    "# COVID-19 and ACE inhibitors\n",
    "\n",
    "**This example does not use actual COVID-19 data and does not offer medical advice.**\n",
    "\n",
    "This notebook shows how to test whether ACI inhibitors explain higher mortality from COVID-19 among hypertensive patients.\n",
    "\n",
    "Suppose we have a machine learning model which predicts COVID-19 mortality based on a patient's characteristics. We can use generalized SHAP values to ask what variables lead our model to predict higher mortality rates for hypertensive patients."
   ]
  },
  {
   "cell_type": "code",
   "execution_count": 1,
   "metadata": {},
   "outputs": [],
   "source": [
    "import gshap\n",
    "from gshap.datasets import load_recidivism\n",
    "from gshap.intergroup import IntergroupDifference, absolute_mean_distance\n",
    "\n",
    "import matplotlib.pyplot as plt\n",
    "import numpy as np\n",
    "import pandas as pd\n",
    "import seaborn as sns\n",
    "from sklearn.model_selection import train_test_split\n",
    "from sklearn.svm import SVC\n",
    "\n",
    "import multiprocessing as mp"
   ]
  },
  {
   "cell_type": "markdown",
   "metadata": {},
   "source": [
    "Without access to a COVID-19 dataset, I load a recidivism dataset and rename the variables."
   ]
  },
  {
   "cell_type": "code",
   "execution_count": 2,
   "metadata": {},
   "outputs": [
    {
     "name": "stdout",
     "output_type": "stream",
     "text": [
      "Test score: 0.6750\n"
     ]
    }
   ],
   "source": [
    "recidivism = load_recidivism()\n",
    "X, y = recidivism.data, recidivism.target\n",
    "X = X.rename(columns={'black': 'hypertensive', 'age': 'ACE_inhibitor'})\n",
    "y = y.rename('mortality')\n",
    "X_train, X_test, y_train, y_test = train_test_split(X, y, test_size=1000)\n",
    "clf = SVC()\n",
    "clf.fit(X_train, y_train)\n",
    "print('Test score: %.4f' % clf.score(X_test, y_test))"
   ]
  },
  {
   "cell_type": "markdown",
   "metadata": {},
   "source": [
    "Our model predicts higher mortality rates for hypertensive patients."
   ]
  },
  {
   "cell_type": "code",
   "execution_count": 3,
   "metadata": {},
   "outputs": [
    {
     "name": "stdout",
     "output_type": "stream",
     "text": [
      "Predicted mortality rate for non-hypertensive patients: 40%\n",
      "Predicted mortality rate for hypertensive patients: 61%\n",
      "Absolute difference: 21 percentage points\n"
     ]
    }
   ],
   "source": [
    "df = pd.concat((X_test, y_test), axis=1)\n",
    "df['y_pred'] = clf.predict(X_test)\n",
    "p_non_hyper, p_hyper = df.groupby('hypertensive')['y_pred'].mean()\n",
    "print('Predicted mortality rate for non-hypertensive patients: {0:.0f}%'.format(100*p_non_hyper))\n",
    "print('Predicted mortality rate for hypertensive patients: {0:.0f}%'.format(100*p_hyper))\n",
    "print('Absolute difference: {0:.0f} percentage points'.format(100*(p_hyper - p_non_hyper)))"
   ]
  },
  {
   "cell_type": "markdown",
   "metadata": {},
   "source": [
    "We now ask how many percentage points of the difference in mortality rates is explained by ACE inhibitors."
   ]
  },
  {
   "cell_type": "code",
   "execution_count": 4,
   "metadata": {},
   "outputs": [
    {
     "name": "stdout",
     "output_type": "stream",
     "text": [
      "Difference in mortality rates explained by ACE inhibitors: 5 percentage points\n"
     ]
    }
   ],
   "source": [
    "g = IntergroupDifference(group=X_test['hypertensive'], distance=absolute_mean_distance)\n",
    "explainer = gshap.KernelExplainer(clf.predict, X_train, g)\n",
    "gshap_value = explainer.gshap_value('ACE_inhibitor', X_test, nsamples=32)\n",
    "print('Difference in mortality rates explained by ACE inhibitors: {0:.0f} percentage points'.format(100*gshap_value))"
   ]
  },
  {
   "cell_type": "markdown",
   "metadata": {},
   "source": [
    "Additionally, we can use bootstrapping to run hypothesis tests and obtain confidence bounds."
   ]
  },
  {
   "cell_type": "code",
   "execution_count": 5,
   "metadata": {},
   "outputs": [],
   "source": [
    "bootstrap_samples = 2\n",
    "\n",
    "def bootstrap_gshap_values(output):\n",
    "    sample = X_test.sample(len(X_test), replace=True)\n",
    "    g = IntergroupDifference(group=sample['hypertensive'], distance=absolute_mean_distance)\n",
    "    explainer = gshap.KernelExplainer(clf.predict, X_train, g)\n",
    "    output.put(explainer.gshap_value('ACE_inhibitor', sample, nsamples=10))\n",
    "\n",
    "output = mp.Queue()\n",
    "processes = [\n",
    "    mp.Process(target=bootstrap_gshap_values, args=(output,)) \n",
    "    for i in range(bootstrap_samples)\n",
    "]\n",
    "[p.start() for p in processes]\n",
    "[p.join() for p in processes]\n",
    "gshap_values = np.array([output.get() for p in processes])"
   ]
  },
  {
   "cell_type": "markdown",
   "metadata": {},
   "source": [
    "In this example, we ask how likely it is that ACE inhibitors explain more than 7 percentage points of the difference in mortality rates between hypertensive and non-hypertensive patients."
   ]
  },
  {
   "cell_type": "code",
   "execution_count": 6,
   "metadata": {},
   "outputs": [
    {
     "name": "stdout",
     "output_type": "stream",
     "text": [
      "Probability that ACE inhibitors explain more than 7 percentage points of the difference in mortality rates: 0.0%\n"
     ]
    }
   ],
   "source": [
    "threshold = .05\n",
    "p_val = (gshap_values>threshold).mean()\n",
    "print('Probability that ACE inhibitors explain more than {0:.0f} percentage points of the difference in mortality rates: {1:.1f}%'.format(100*threshold, 100*p_val))"
   ]
  },
  {
   "cell_type": "code",
   "execution_count": null,
   "metadata": {},
   "outputs": [],
   "source": []
  }
 ],
 "metadata": {
  "kernelspec": {
   "display_name": "Python 3",
   "language": "python",
   "name": "python3"
  },
  "language_info": {
   "codemirror_mode": {
    "name": "ipython",
    "version": 3
   },
   "file_extension": ".py",
   "mimetype": "text/x-python",
   "name": "python",
   "nbconvert_exporter": "python",
   "pygments_lexer": "ipython3",
   "version": "3.6.8"
  }
 },
 "nbformat": 4,
 "nbformat_minor": 4
}
