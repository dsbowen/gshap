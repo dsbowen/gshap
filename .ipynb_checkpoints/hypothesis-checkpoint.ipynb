{
 "cells": [
  {
   "cell_type": "code",
   "execution_count": 1,
   "metadata": {},
   "outputs": [],
   "source": [
    "import gshap\n",
    "from gshap.hypothesis import HypothesisTest\n",
    "\n",
    "import pandas as pd\n",
    "import matplotlib.pyplot as plt\n",
    "import seaborn as sns\n",
    "from sklearn.datasets import load_diabetes\n",
    "from sklearn.model_selection import train_test_split\n",
    "from sklearn.linear_model import Lasso"
   ]
  },
  {
   "cell_type": "code",
   "execution_count": 2,
   "metadata": {},
   "outputs": [
    {
     "name": "stdout",
     "output_type": "stream",
     "text": [
      "Test score: 0.5580\n"
     ]
    }
   ],
   "source": [
    "diabetes = load_diabetes()\n",
    "X, y = diabetes.data, diabetes.target\n",
    "X_train, X_test, y_train, y_test = train_test_split(X, y)\n",
    "reg = Lasso(alpha=.1)\n",
    "reg.fit(X_train, y_train)\n",
    "print('Test score: %.4f' % reg.score(X_test, y_test))"
   ]
  },
  {
   "cell_type": "code",
   "execution_count": 3,
   "metadata": {},
   "outputs": [
    {
     "data": {
      "image/png": "[encoded data removed]",
      "text/plain": [
       "<Figure size 432x288 with 1 Axes>"
      ]
     },
     "metadata": {
      "needs_background": "light"
     },
     "output_type": "display_data"
    },
    {
     "data": {
      "text/plain": [
       "152.19335347432028"
      ]
     },
     "execution_count": 3,
     "metadata": {},
     "output_type": "execute_result"
    }
   ],
   "source": [
    "plt.hist(y_train)\n",
    "plt.show()\n",
    "reg.predict(X_train).mean()"
   ]
  },
  {
   "cell_type": "code",
   "execution_count": 6,
   "metadata": {},
   "outputs": [],
   "source": [
    "statistic = lambda y: y.mean()\n",
    "test = lambda y_bar: y_bar > 155\n",
    "g = HypothesisTest(statistic, test, 100)\n",
    "explainer = gshap.KernelExplainer(reg.predict, X_train, g)\n",
    "x = X_test[reg.predict(X_test) > 70]\n",
    "gshap_values = explainer.gshap_values(x, nsamples=100)"
   ]
  },
  {
   "cell_type": "code",
   "execution_count": 7,
   "metadata": {},
   "outputs": [
    {
     "name": "stdout",
     "output_type": "stream",
     "text": [
      "0.95\n",
      "0.327\n",
      "0.623\n",
      "0.6305000000000002\n"
     ]
    }
   ],
   "source": [
    "g_comparison, g_background = explainer.compare(x, bootstrap_samples=100)\n",
    "print(g_comparison)\n",
    "print(g_background)\n",
    "print(g_comparison-g_background)\n",
    "print(gshap_values.sum())"
   ]
  },
  {
   "cell_type": "code",
   "execution_count": 8,
   "metadata": {},
   "outputs": [
    {
     "data": {
      "text/plain": [
       "array([ 0.0089, -0.0648,  0.2148,  0.1444, -0.0088, -0.0013,  0.173 ,\n",
       "       -0.0008,  0.1518,  0.0133])"
      ]
     },
     "execution_count": 8,
     "metadata": {},
     "output_type": "execute_result"
    }
   ],
   "source": [
    "gshap_values"
   ]
  },
  {
   "cell_type": "code",
   "execution_count": null,
   "metadata": {},
   "outputs": [],
   "source": []
  }
 ],
 "metadata": {
  "kernelspec": {
   "display_name": "Python 3",
   "language": "python",
   "name": "python3"
  },
  "language_info": {
   "codemirror_mode": {
    "name": "ipython",
    "version": 3
   },
   "file_extension": ".py",
   "mimetype": "text/x-python",
   "name": "python",
   "nbconvert_exporter": "python",
   "pygments_lexer": "ipython3",
   "version": "3.6.8"
  }
 },
 "nbformat": 4,
 "nbformat_minor": 4
}
