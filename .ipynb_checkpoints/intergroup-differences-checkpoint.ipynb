{
 "cells": [
  {
   "cell_type": "code",
   "execution_count": 1,
   "metadata": {},
   "outputs": [
    {
     "name": "stderr",
     "output_type": "stream",
     "text": [
      "/home/dsbowen/.local/lib/python3.6/site-packages/sklearn/utils/deprecation.py:144: FutureWarning: The sklearn.metrics.classification module is  deprecated in version 0.22 and will be removed in version 0.24. The corresponding classes / functions should instead be imported from sklearn.metrics. Anything that cannot be imported from sklearn.metrics is now part of the private API.\n",
      "  warnings.warn(message, FutureWarning)\n"
     ]
    }
   ],
   "source": [
    "import warnings\n",
    "warnings.simplefilter('ignore')\n",
    "\n",
    "import gshap\n",
    "from gshap import intergroup\n",
    "\n",
    "from sklearn import svm\n",
    "from sklearn.model_selection import train_test_split\n",
    "from sklearn.metrics import accuracy_score\n",
    "\n",
    "# syntax\n",
    "# distance = gshap.intergroup.MAD\n",
    "# g = gshap.intergroup.IntergroupDistance(group, distance)\n",
    "# explainer = gshap.KernelExplainer(model, X_test, g)\n",
    "# gshap_values = explainer.gshap_values(X_test, nsamples=100)"
   ]
  },
  {
   "cell_type": "code",
   "execution_count": 27,
   "metadata": {},
   "outputs": [
    {
     "name": "stdout",
     "output_type": "stream",
     "text": [
      "Accuracy: 67.50%\n"
     ]
    }
   ],
   "source": [
    "# Load COMPAS recidivism dataset and train SVM classifier\n",
    "X, y = gshap.datasets.load_recidivism()\n",
    "X_train, X_test, y_train, y_test = train_test_split(X,y)\n",
    "clf = svm.SVC()\n",
    "clf.fit(X_train, y_train)\n",
    "accuracy = accuracy_score(y_test, clf.predict(X_test))\n",
    "print('Accuracy: {0:.2f}%'.format(100*accuracy))"
   ]
  },
  {
   "cell_type": "code",
   "execution_count": 4,
   "metadata": {
    "scrolled": true
   },
   "outputs": [],
   "source": [
    "# Compute G-SHAP values for disparate impact between African-Americans\n",
    "# and other races\n",
    "g = gshap.fairness_measures.DisparateImpact(X_test['African-American'])\n",
    "explainer = gshap.KernelExplainer(clf.predict, X_train, g)\n",
    "gshap_values = explainer.gshap_values(X_test, nsamples=100)"
   ]
  },
  {
   "cell_type": "code",
   "execution_count": 43,
   "metadata": {},
   "outputs": [
    {
     "name": "stdout",
     "output_type": "stream",
     "text": [
      "Total disparate impact: -35.01\n",
      "Feature impacts sum to total: -39.22\n"
     ]
    },
    {
     "data": {
      "text/plain": [
       "<matplotlib.axes._subplots.AxesSubplot at 0x7fbf6b24c518>"
      ]
     },
     "execution_count": 43,
     "metadata": {},
     "output_type": "execute_result"
    },
    {
     "data": {
      "image/png": "[encoded data removed]",
      "text/plain": [
       "<Figure size 432x288 with 1 Axes>"
      ]
     },
     "metadata": {
      "needs_background": "light"
     },
     "output_type": "display_data"
    }
   ],
   "source": [
    "# Print disparate impacts\n",
    "import seaborn as sns\n",
    "import pandas as pd\n",
    "\n",
    "disparate_impact = g(clf.predict(X_test))\n",
    "print('Total disparate impact: %.2f' % (100*disparate_impact))\n",
    "print('Feature impacts sum to total: %.2f' % (100*sum(gshap_values)))\n",
    "values = [(col, 100*val) for col, val in zip(X.columns, gshap_values)]\n",
    "values.sort(key=lambda x: x[1])\n",
    "values = values[:10]\n",
    "cols = [col for col, val in values]\n",
    "values = [val for col, val in values]\n",
    "sns.barplot(y=cols, x=values)"
   ]
  },
  {
   "cell_type": "code",
   "execution_count": null,
   "metadata": {},
   "outputs": [],
   "source": []
  }
 ],
 "metadata": {
  "kernelspec": {
   "display_name": "Python 3",
   "language": "python",
   "name": "python3"
  },
  "language_info": {
   "codemirror_mode": {
    "name": "ipython",
    "version": 3
   },
   "file_extension": ".py",
   "mimetype": "text/x-python",
   "name": "python",
   "nbconvert_exporter": "python",
   "pygments_lexer": "ipython3",
   "version": "3.6.8"
  }
 },
 "nbformat": 4,
 "nbformat_minor": 4
}
